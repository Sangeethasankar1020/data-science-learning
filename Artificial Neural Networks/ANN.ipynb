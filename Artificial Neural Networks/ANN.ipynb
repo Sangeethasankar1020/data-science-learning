{
 "cells": [
  {
   "cell_type": "markdown",
   "id": "afe1f929-b2f2-41c6-9e43-034ad4c1c886",
   "metadata": {},
   "source": [
    "# Artificial Neural Network (ANN)"
   ]
  },
  {
   "cell_type": "markdown",
   "id": "c2781d2b-a7a6-4618-867b-0d787e106b57",
   "metadata": {},
   "source": [
    "An Artificial Neural Network (ANN) is a machine learning model inspired by the structure and functioning of the human brain. It consists of layers of interconnected neurons (nodes) that process data to make predictions or classifications."
   ]
  },
  {
   "cell_type": "markdown",
   "id": "8f2a4eaf-c3af-400d-a4ee-bf87271c8fa6",
   "metadata": {},
   "source": [
    "### Why do we use ANNs?"
   ]
  },
  {
   "cell_type": "markdown",
   "id": "43780c58-6131-4818-894e-8dc80f937d7f",
   "metadata": {},
   "source": [
    "- **Pattern Recognition:** Used in image and speech recognition.\n",
    "\n",
    "- **Function Approximation:** Used for regression problems.\n",
    "\n",
    "- **Classification Tasks:** Used in sentiment analysis, spam detection, etc."
   ]
  },
  {
   "cell_type": "markdown",
   "id": "c80ef08b-4857-4927-b9ca-2bb737ad87b5",
   "metadata": {},
   "source": [
    "### Structure of ANN"
   ]
  },
  {
   "cell_type": "markdown",
   "id": "b07ddf14-366d-4aee-9dbb-02bebf21e5d8",
   "metadata": {},
   "source": [
    "ANN consists of three layers:\n",
    "- **Input Layer:** Receives the input data.\n",
    "\n",
    "- **Hidden Layers:** Processes data with weights and activation functions.\n",
    "\n",
    "- **Output Layer:** Produces the final prediction."
   ]
  },
  {
   "cell_type": "markdown",
   "id": "69900225-12c1-4c14-8002-d57b44377ef7",
   "metadata": {},
   "source": [
    "### How Does ANN Work?"
   ]
  },
  {
   "cell_type": "markdown",
   "id": "db20a607-46dd-41b9-bb4c-38b49b73f1a4",
   "metadata": {},
   "source": [
    "**Forward Propagation**"
   ]
  },
  {
   "cell_type": "markdown",
   "id": "4a61fcd8-7c95-4869-801f-4713c48c62e4",
   "metadata": {},
   "source": [
    "- Input values are passed through the network.\n",
    "\n",
    "- Each neuron applies a weight, bias, and activation function to the input.\n",
    "\n",
    "- The result is propagated forward to the next layer until the output is produced."
   ]
  },
  {
   "cell_type": "markdown",
   "id": "f5c201ed-1998-46f7-b0a3-e2be5ae8d847",
   "metadata": {},
   "source": [
    "**Backpropagation & Gradient Descent**"
   ]
  },
  {
   "cell_type": "markdown",
   "id": "999cbc16-7bf2-4548-a89b-fad0b587b48e",
   "metadata": {},
   "source": [
    "\n",
    "To train an ANN, we need to reduce the error (difference between actual and predicted output). This is done using:"
   ]
  },
  {
   "cell_type": "markdown",
   "id": "c9cfbc11-b3d0-4cf4-bb40-b3cf05f9eb49",
   "metadata": {},
   "source": [
    "**Backpropagation:** Adjusts the weights by computing the gradient of the loss function.\n",
    "\n",
    "**Gradient Descent:** Optimizes the weights by minimizing the loss.\n",
    "\n"
   ]
  },
  {
   "cell_type": "markdown",
   "id": "ea4f75e8-983a-4fea-9061-8e8bf1695609",
   "metadata": {},
   "source": [
    "- **Weights control** the strength of connections between neurons.\n",
    "\n",
    "- **Biases** help shift the activation function for better learning.\n",
    "\n",
    "- **Random initialization** prevents symmetry issues in learning.\n",
    "\n"
   ]
  },
  {
   "cell_type": "markdown",
   "id": "3b183f8d-078f-48aa-9564-8cc6f4e15cd5",
   "metadata": {},
   "source": [
    "**Why Backpropagation?**\n",
    "- Adjusts weights & biases to reduce error.\n",
    "\n",
    "- Uses Gradient Descent to optimize model."
   ]
  },
  {
   "cell_type": "markdown",
   "id": "c1fb3c28-9422-4410-ae3b-5ed97a80be8b",
   "metadata": {},
   "source": [
    "### Here’s a fully functional neural network that trains using gradient descent."
   ]
  },
  {
   "cell_type": "code",
   "execution_count": 114,
   "id": "0b216666-aff9-4cf5-878e-05bca3503ff3",
   "metadata": {},
   "outputs": [],
   "source": [
    "import numpy as np\n",
    "\n",
    "class NeuralNetwork:\n",
    "    def __init__(self, input_size, hidden_size, output_size, learning_rate=0.01):\n",
    "        self.input_size = input_size\n",
    "        self.hidden_size = hidden_size\n",
    "        self.output_size = output_size\n",
    "        self.learning_rate = learning_rate\n",
    "\n",
    "        # Initialize weights and biases randomly\n",
    "        self.W1 = np.random.randn(input_size, hidden_size)\n",
    "        self.b1 = np.zeros((1, hidden_size))\n",
    "        self.W2 = np.random.randn(hidden_size, output_size)\n",
    "        self.b2 = np.zeros((1, output_size))\n",
    "\n",
    "    def sigmoid(self, x):\n",
    "        return 1 / (1 + np.exp(-x))\n",
    "\n",
    "    def sigmoid_derivative(self, x):\n",
    "        return x * (1 - x)\n",
    "\n",
    "    def forward(self, X):\n",
    "        \"\"\" Forward propagation \"\"\"\n",
    "        self.z1 = np.dot(X, self.W1) + self.b1\n",
    "        self.a1 = self.sigmoid(self.z1)\n",
    "        self.z2 = np.dot(self.a1, self.W2) + self.b2\n",
    "        self.output = self.sigmoid(self.z2)\n",
    "        return self.output\n",
    "\n",
    "    def backward(self, X, y):\n",
    "        \"\"\" Backpropagation and weight update \"\"\"\n",
    "        m = X.shape[0]\n",
    "\n",
    "        # Compute error\n",
    "        loss = y - self.output\n",
    "\n",
    "        # Gradients for output layer\n",
    "        d_output = loss * self.sigmoid_derivative(self.output)\n",
    "\n",
    "        # Gradients for hidden layer\n",
    "        d_hidden_layer = np.dot(d_output, self.W2.T) * self.sigmoid_derivative(self.a1)\n",
    "\n",
    "        # Update weights and biases\n",
    "        self.W2 += self.learning_rate * np.dot(self.a1.T, d_output) / m\n",
    "        self.b2 += self.learning_rate * np.sum(d_output, axis=0, keepdims=True) / m\n",
    "        self.W1 += self.learning_rate * np.dot(X.T, d_hidden_layer) / m\n",
    "        self.b1 += self.learning_rate * np.sum(d_hidden_layer, axis=0, keepdims=True) / m\n",
    "\n",
    "    def train(self, X, y, epochs=1000):\n",
    "        \"\"\" Training loop \"\"\"\n",
    "        for epoch in range(epochs):\n",
    "            self.forward(X)\n",
    "            self.backward(X, y)\n",
    "            \n",
    "            if epoch % 100 == 0:  # Print loss every 100 epochs\n",
    "                loss = np.mean(np.square(y - self.output))\n",
    "                print(f\"Epoch {epoch}, Loss: {loss}\")\n",
    "\n",
    "    def predict(self, X):\n",
    "        \"\"\" Make predictions \"\"\"\n",
    "        return self.forward(X)\n"
   ]
  },
  {
   "cell_type": "markdown",
   "id": "0308a2ce-340c-40f2-ad27-42da0356c990",
   "metadata": {},
   "source": [
    "### Generate Sample Dataset"
   ]
  },
  {
   "cell_type": "code",
   "execution_count": 121,
   "id": "3b68ac9a-4401-437e-bdf6-a2f69e663ac3",
   "metadata": {},
   "outputs": [
    {
     "data": {
      "image/png": "[encoded data removed]",
      "text/plain": [
       "<Figure size 640x480 with 1 Axes>"
      ]
     },
     "metadata": {},
     "output_type": "display_data"
    }
   ],
   "source": [
    "import matplotlib.pyplot as plt\n",
    "\n",
    "# Generate sample dataset\n",
    "np.random.seed(0)\n",
    "X_train = np.random.rand(100, 1)  # 100 samples, 1 feature\n",
    "y_train = 2 * X_train + 1 + 0.1 * np.random.randn(100, 1)  # y = 2x + 1 + noise\n",
    "\n",
    "# Plot data\n",
    "plt.scatter(X_train, y_train, color=\"blue\", label=\"True Data\")\n",
    "plt.xlabel(\"X\")\n",
    "plt.ylabel(\"y\")\n",
    "plt.title(\"Training Data\")\n",
    "plt.legend()\n",
    "plt.show()\n"
   ]
  },
  {
   "cell_type": "markdown",
   "id": "14f153f2-d708-45d7-aefe-3b7236fe27ac",
   "metadata": {},
   "source": [
    "### Train the Neural Network"
   ]
  },
  {
   "cell_type": "code",
   "execution_count": 125,
   "id": "2f27524d-f531-4c85-8d80-c605cc4f91a0",
   "metadata": {},
   "outputs": [
    {
     "name": "stdout",
     "output_type": "stream",
     "text": [
      "Epoch 0, Loss: 1.5215787255003073\n",
      "Epoch 100, Loss: 1.3145702343175387\n",
      "Epoch 200, Loss: 1.2940899516052276\n",
      "Epoch 300, Loss: 1.2865877693112537\n",
      "Epoch 400, Loss: 1.2827303345573917\n",
      "Epoch 500, Loss: 1.280391092383328\n",
      "Epoch 600, Loss: 1.2788253412061423\n",
      "Epoch 700, Loss: 1.2777058835361685\n",
      "Epoch 800, Loss: 1.2768667905217597\n",
      "Epoch 900, Loss: 1.276215090359515\n"
     ]
    }
   ],
   "source": [
    "# Initialize the neural network\n",
    "nn = NeuralNetwork(input_size=1, hidden_size=10, output_size=1, learning_rate=0.1)\n",
    "\n",
    "# Train the model\n",
    "nn.train(X_train, y_train, epochs=1000)"
   ]
  },
  {
   "cell_type": "markdown",
   "id": "1b8cdcdf-fe19-48c1-b5b0-2c857bf799ca",
   "metadata": {},
   "source": [
    "### Test Predictions"
   ]
  },
  {
   "cell_type": "code",
   "execution_count": 129,
   "id": "b87eb778-37c2-4da8-96ed-d68fc51f90e6",
   "metadata": {},
   "outputs": [
    {
     "name": "stdout",
     "output_type": "stream",
     "text": [
      "Predictions:\n",
      "Input: 0.1, Predicted Output: 0.9966547515349921\n",
      "Input: 0.5, Predicted Output: 0.997565678435911\n",
      "Input: 0.9, Predicted Output: 0.9979341463078787\n"
     ]
    }
   ],
   "source": [
    "# Generate test data\n",
    "X_test = np.array([[0.1], [0.5], [0.9]])\n",
    "y_pred = nn.predict(X_test)\n",
    "\n",
    "print(\"Predictions:\")\n",
    "for i in range(len(X_test)):\n",
    "    print(f\"Input: {X_test[i][0]}, Predicted Output: {y_pred[i][0]}\")"
   ]
  },
  {
   "cell_type": "code",
   "execution_count": null,
   "id": "66e25e84-d98f-4bd7-9217-3cc408212194",
   "metadata": {},
   "outputs": [],
   "source": []
  },
  {
   "cell_type": "code",
   "execution_count": null,
   "id": "1b84f091-ffbf-49d0-b501-2b4ede882922",
   "metadata": {},
   "outputs": [],
   "source": []
  }
 ],
 "metadata": {
  "kernelspec": {
   "display_name": "Python 3 (ipykernel)",
   "language": "python",
   "name": "python3"
  },
  "language_info": {
   "codemirror_mode": {
    "name": "ipython",
    "version": 3
   },
   "file_extension": ".py",
   "mimetype": "text/x-python",
   "name": "python",
   "nbconvert_exporter": "python",
   "pygments_lexer": "ipython3",
   "version": "3.12.4"
  }
 },
 "nbformat": 4,
 "nbformat_minor": 5
}
