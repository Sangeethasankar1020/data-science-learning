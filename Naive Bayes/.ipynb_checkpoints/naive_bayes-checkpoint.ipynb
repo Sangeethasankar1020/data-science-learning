{
 "cells": [
  {
   "cell_type": "markdown",
   "id": "5a42b146-d3f1-4040-807d-1fc6a5fd5a2c",
   "metadata": {},
   "source": [
    "# What is Naïve Bayes?"
   ]
  },
  {
   "cell_type": "markdown",
   "id": "602cb0f3-0638-4313-816b-316013b66d03",
   "metadata": {},
   "source": [
    "Naïve Bayes is a probabilistic machine learning algorithm based on Bayes' Theorem. It is fast, simple, and effective for classification tasks, especially in text classification, spam detection, sentiment analysis, and medical diagnosis."
   ]
  },
  {
   "cell_type": "markdown",
   "id": "c8d0957f-0f75-4391-afc7-f73744140ebd",
   "metadata": {},
   "source": [
    "### Why use Naïve Bayes?"
   ]
  },
  {
   "cell_type": "markdown",
   "id": "0c246c3a-950e-4712-8fdc-705bbed6db43",
   "metadata": {},
   "source": [
    "- Works well even with small datasets.\n",
    "- Handles high-dimensional data efficiently (e.g., text classification).\n",
    "- Fast and Scalable (low computation cost).\n",
    "- Performs well even with limited training data.\n",
    "- Assumes features are independent (which is often not true in reality, but still works surprisingly well)."
   ]
  },
  {
   "cell_type": "markdown",
   "id": "f3e6a1eb-6c97-49ce-9207-d3f8e9f858d7",
   "metadata": {},
   "source": [
    "### How does Naïve Bayes work?"
   ]
  },
  {
   "cell_type": "markdown",
   "id": "04e106ba-bd27-42ea-b1be-11b230651474",
   "metadata": {},
   "source": [
    "**Example: Email Spam Classification**\n",
    "Let’s say we have an email, and we want to predict whether it's Spam or Not Spam."
   ]
  },
  {
   "cell_type": "markdown",
   "id": "507f1a6d-4006-4426-8b76-125d581ce708",
   "metadata": {},
   "source": [
    "- **Prior Probability:**\n",
    "- P(Spam) = Probability of an email being spam.\n",
    "- p(Not Spam) = Probability of an email being not spam.\n",
    "- **Likelihood:**\n",
    "- Probability of seeing a word given that the email is spam.\n",
    "- Probability of seeing a word given that the email is not spam.\n",
    "- **Posterior Probability:**\n",
    "- Compute probabilities for both Spam and Not Spam using Bayes' Theorem.\n",
    "- Choose the label with the higher probability."
   ]
  },
  {
   "cell_type": "markdown",
   "id": "0d8b632e-b9b4-47eb-bc10-3acb3d823517",
   "metadata": {},
   "source": [
    "## Naïve Bayes for Text Classification"
   ]
  },
  {
   "cell_type": "markdown",
   "id": "7a160389-5d53-45cd-9d25-88395c9f0f5a",
   "metadata": {},
   "source": [
    "One of the best applications of Naïve Bayes is text classification, e.g., spam detection or sentiment analysis.\n"
   ]
  },
  {
   "cell_type": "markdown",
   "id": "5417353e-10b7-4abc-b4a7-01ebe64e3b61",
   "metadata": {},
   "source": [
    "### Types of Naïve Bayes Classifiers"
   ]
  },
  {
   "cell_type": "markdown",
   "id": "db1ad6a1-7359-45be-846d-04282c5088f4",
   "metadata": {},
   "source": [
    "- Gaussian Naïve Bayes (for continuous data)\n",
    "- Multinomial Naïve Bayes (for text classification)\n",
    "- Bernoulli Naïve Bayes (for binary features, e.g., word presence/absence)"
   ]
  },
  {
   "cell_type": "markdown",
   "id": "5e869d4a-bf39-411b-94f8-99220b17bb3c",
   "metadata": {},
   "source": [
    "### Real-World Example: Sentiment Analysis"
   ]
  },
  {
   "cell_type": "markdown",
   "id": "058eebc5-8c40-4c91-8c3b-03eb6a26dd6c",
   "metadata": {},
   "source": [
    "We will classify IMDB movie reviews as Positive or Negative using Naïve Bayes."
   ]
  },
  {
   "cell_type": "markdown",
   "id": "aff82a5b-5221-45c4-82da-5845da38dca4",
   "metadata": {},
   "source": [
    "### Implementing Naïve Bayes in Python"
   ]
  },
  {
   "cell_type": "code",
   "execution_count": null,
   "id": "5d7b04e0-19c3-4a6f-936e-3bc89e5038e8",
   "metadata": {},
   "outputs": [],
   "source": [
    "import pandas as pd\n",
    "import numpy as np\n",
    "import matplotlib.pyplot as plt\n",
    "import seaborn as sns\n",
    "from sklearn.feature_extraction.text import CountVectorizer, TfidfVectorizer\n",
    "from sklearn.model_selection import train_test_split\n",
    "from sklearn.naive_bayes import MultinomialNB\n",
    "from sklearn.pipeline import make_pipeline\n",
    "from sklearn.metrics import accuracy_score, classification_report, confusion_matrix\n",
    "import nltk\n",
    "from nltk.corpus import stopwords\n",
    "import string"
   ]
  },
  {
   "cell_type": "code",
   "execution_count": null,
   "id": "f896e6e0-c281-41ff-bc68-050a3f1597e5",
   "metadata": {},
   "outputs": [],
   "source": [
    "pip install nltk"
   ]
  },
  {
   "cell_type": "markdown",
   "id": "25928df3-454c-4714-b046-65267cf094bb",
   "metadata": {},
   "source": [
    "**Load and Explore the Dataset**\n",
    "- We'll use the IMDB dataset (Movie reviews with sentiments)."
   ]
  },
  {
   "cell_type": "code",
   "execution_count": null,
   "id": "471e11b9-7697-4467-a520-95b15519dc41",
   "metadata": {},
   "outputs": [],
   "source": [
    "pip install tensorflow\n"
   ]
  },
  {
   "cell_type": "code",
   "execution_count": null,
   "id": "b92b88d9-f4bc-4c01-aa33-f6dd7187fae0",
   "metadata": {},
   "outputs": [],
   "source": [
    "import tensorflow_datasets as tfds\n",
    "\n",
    "# Load dataset\n",
    "imdb_data, info = tfds.load(\"imdb_reviews\", as_supervised=True, with_info=True)\n",
    "\n",
    "# Convert to lists\n",
    "X_train, y_train = [], []\n",
    "for text, label in tfds.as_numpy(imdb_data[\"train\"]):\n",
    "    X_train.append(text.decode(\"utf-8\"))\n",
    "    y_train.append(label)\n",
    "\n",
    "print(f\"Loaded {len(X_train)} training reviews.\")\n",
    "print(\"Example Review:\", X_train[0])\n"
   ]
  },
  {
   "cell_type": "code",
   "execution_count": null,
   "id": "708797b9-7528-48ec-9801-4c49cbb025cb",
   "metadata": {},
   "outputs": [],
   "source": [
    "pip install tensorflow_datasets"
   ]
  },
  {
   "cell_type": "markdown",
   "id": "749f5e1f-d065-4662-9e77-76836ea9b8f1",
   "metadata": {},
   "source": [
    "### Data Preprocessing"
   ]
  },
  {
   "cell_type": "markdown",
   "id": "2c18f47c-b01c-4f99-9199-d52d36bd7bd9",
   "metadata": {},
   "source": [
    "We will clean the text by:\n",
    "\n",
    "- Removing punctuation and stopwords.\n",
    "- Converting text to lowercase.\n",
    "- Tokenizing words."
   ]
  },
  {
   "cell_type": "code",
   "execution_count": null,
   "id": "0f297f24-bd8f-432a-a255-0d7cd07a7e74",
   "metadata": {},
   "outputs": [],
   "source": [
    "nltk.download('stopwords')\n",
    "\n",
    "def preprocess_text(text):\n",
    "    text = text.lower()  # Convert to lowercase\n",
    "    text = \"\".join([char for char in text if char not in string.punctuation])  # Remove punctuation\n",
    "    words = text.split()\n",
    "    words = [word for word in words if word not in stopwords.words('english')]  # Remove stopwords\n",
    "    return \" \".join(words)\n",
    "\n",
    "# Apply preprocessing\n",
    "X_clean = [preprocess_text(doc) for doc in X]\n"
   ]
  },
  {
   "cell_type": "markdown",
   "id": "09742c54-5d64-42d8-bb98-6321259936f0",
   "metadata": {},
   "source": [
    "### Convert Text into Numerical Features"
   ]
  },
  {
   "cell_type": "markdown",
   "id": "f1137595-cc6c-42ed-9fcf-8a815551970c",
   "metadata": {},
   "source": [
    "We will use TF-IDF Vectorizer to convert text into numerical format."
   ]
  },
  {
   "cell_type": "code",
   "execution_count": null,
   "id": "ec5c4002-1504-4394-a774-d188a29af895",
   "metadata": {},
   "outputs": [],
   "source": [
    "vectorizer = TfidfVectorizer(max_features=5000)  # Limit to 5000 words\n",
    "X_vec = vectorizer.fit_transform(X_clean)\n",
    "\n",
    "# Split dataset\n",
    "X_train, X_test, y_train, y_test = train_test_split(X_vec, y, test_size=0.2, random_state=42)\n"
   ]
  },
  {
   "cell_type": "markdown",
   "id": "e4bae55d-a257-48d1-81a8-2908a22e9f27",
   "metadata": {},
   "source": [
    "### Train Naïve Bayes Model"
   ]
  },
  {
   "cell_type": "markdown",
   "id": "d071edec-44f1-4b07-81a9-bda916662fd5",
   "metadata": {},
   "source": [
    "We use MultinomialNB because it's best suited for text classification."
   ]
  },
  {
   "cell_type": "code",
   "execution_count": null,
   "id": "1da22978-1ca1-46ed-8e84-5c0249729cda",
   "metadata": {},
   "outputs": [],
   "source": [
    "# Train model\n",
    "nb_model = MultinomialNB()\n",
    "nb_model.fit(X_train, y_train)\n",
    "\n",
    "# Predict\n",
    "y_pred = nb_model.predict(X_test)\n"
   ]
  },
  {
   "cell_type": "markdown",
   "id": "971ea4fa-e77c-42a9-a774-0d7e793a13c2",
   "metadata": {},
   "source": [
    "### Model Evaluation"
   ]
  },
  {
   "cell_type": "code",
   "execution_count": null,
   "id": "f1619b83-ba47-4b57-b5fe-2a3242b245df",
   "metadata": {},
   "outputs": [],
   "source": [
    "# Accuracy Score\n",
    "print(\"Accuracy:\", accuracy_score(y_test, y_pred))\n",
    "\n",
    "# Confusion Matrix\n",
    "sns.heatmap(confusion_matrix(y_test, y_pred), annot=True, fmt='d', cmap=\"Blues\")\n",
    "plt.xlabel(\"Predicted\")\n",
    "plt.ylabel(\"Actual\")\n",
    "plt.title(\"Confusion Matrix\")\n",
    "plt.show()\n",
    "\n",
    "# Classification Report\n",
    "print(classification_report(y_test, y_pred))"
   ]
  },
  {
   "cell_type": "markdown",
   "id": "2c27f5b8-5caa-421a-a67a-4bd78220b296",
   "metadata": {},
   "source": [
    "### Use Cases of Naïve Bayes"
   ]
  },
  {
   "cell_type": "markdown",
   "id": "b8ac34b8-65b6-420c-8b8c-87c4bdb54964",
   "metadata": {},
   "source": [
    "- Spam Detection – Classifying emails as spam or not spam.\n",
    "- Sentiment Analysis – Analyzing customer reviews, tweets, and comments.\n",
    "- Medical Diagnosis – Identifying diseases based on symptoms.\n",
    "- News Categorization – Automatically tagging news articles.\n",
    "- Credit Scoring – Predicting loan defaults."
   ]
  },
  {
   "cell_type": "markdown",
   "id": "ed0062df-c776-48a4-98f7-62dc411a0802",
   "metadata": {},
   "source": [
    "### Summary"
   ]
  },
  {
   "cell_type": "markdown",
   "id": "490dbcf2-e1d7-4865-8196-c219b887fe7e",
   "metadata": {},
   "source": [
    "- Why? Simple, fast, and effective, especially for text data.\n",
    "- How? Based on Bayes' Theorem and assumes feature independence.\n",
    "- What Use Case? Spam detection, sentiment analysis, and medical diagnosis.\n",
    "- Python Implementation: Used IMDB movie reviews for sentiment analysis.\n"
   ]
  }
 ],
 "metadata": {
  "kernelspec": {
   "display_name": "Python 3 (ipykernel)",
   "language": "python",
   "name": "python3"
  },
  "language_info": {
   "codemirror_mode": {
    "name": "ipython",
    "version": 3
   },
   "file_extension": ".py",
   "mimetype": "text/x-python",
   "name": "python",
   "nbconvert_exporter": "python",
   "pygments_lexer": "ipython3",
   "version": "3.12.3"
  }
 },
 "nbformat": 4,
 "nbformat_minor": 5
}
