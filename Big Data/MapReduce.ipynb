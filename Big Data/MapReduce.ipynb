{
 "cells": [
  {
   "cell_type": "markdown",
   "id": "51d5838f-e06f-4032-bac8-33db5eda778e",
   "metadata": {},
   "source": [
    "# Distributed Processing with MapReduce"
   ]
  },
  {
   "cell_type": "markdown",
   "id": "ec05d6b1-2978-44e7-8846-a9ee51175163",
   "metadata": {},
   "source": [
    "### What is MapReduce?"
   ]
  },
  {
   "cell_type": "markdown",
   "id": "8209d297-b161-49a5-9fa6-0ae8aef57e3e",
   "metadata": {},
   "source": [
    "MapReduce is a programming model for processing large-scale data in a distributed computing environment. It works in parallel by splitting the data across multiple nodes in a Hadoop cluster."
   ]
  },
  {
   "cell_type": "markdown",
   "id": "528ae534-62af-450a-a571-8be77e08671e",
   "metadata": {},
   "source": [
    "### Why Use MapReduce?"
   ]
  },
  {
   "cell_type": "markdown",
   "id": "f5860f2a-418e-41e0-9d95-c2f9fd802f61",
   "metadata": {},
   "source": [
    "### Why Use MapReduce?"
   ]
  },
  {
   "cell_type": "markdown",
   "id": "2aa71c14-9f2c-4e15-b228-2c49f703c7a0",
   "metadata": {},
   "source": [
    "- Scalability: Can handle terabytes and petabytes of data.\n",
    "\n",
    "- Fault tolerance: Automatically handles failures in the cluster.\n",
    "\n",
    "- Parallel Processing: Processes data across multiple machines simultaneously.\n",
    "\n",
    "- Cost Efficiency: Runs on commodity hardware, reducing infrastructure costs."
   ]
  },
  {
   "cell_type": "markdown",
   "id": "5a59f212-4d74-40a0-a3f1-a9bc9c811c50",
   "metadata": {},
   "source": [
    "# Understanding the Two Stages (Mapping and Reducing)"
   ]
  },
  {
   "cell_type": "markdown",
   "id": "1089b138-f275-4f05-a73b-50db80ad0d45",
   "metadata": {},
   "source": [
    "**Mapping Stage (Map Phase)**\n",
    "The Mapper function takes input data, processes it, and produces key-value pairs. Each Mapper processes a small portion of data independently.\n",
    "\n",
    "**Reducing Stage (Reduce Phase)**\n",
    "The Reducer function aggregates and processes the Mapper's output. It applies operations like sum, count, max, min, or sorting."
   ]
  },
  {
   "cell_type": "markdown",
   "id": "728b6546-855e-42cb-b564-92431af8e823",
   "metadata": {},
   "source": [
    "### Key Concepts in MapReduce"
   ]
  },
  {
   "cell_type": "code",
   "execution_count": null,
   "id": "bea9b4d4-44ec-44d9-82fb-3fee59cc1190",
   "metadata": {},
   "outputs": [],
   "source": []
  },
  {
   "cell_type": "code",
   "execution_count": null,
   "id": "89584a4b-95ac-45c6-8901-affb7d1ae98e",
   "metadata": {},
   "outputs": [],
   "source": []
  }
 ],
 "metadata": {
  "kernelspec": {
   "display_name": "Python 3 (ipykernel)",
   "language": "python",
   "name": "python3"
  },
  "language_info": {
   "codemirror_mode": {
    "name": "ipython",
    "version": 3
   },
   "file_extension": ".py",
   "mimetype": "text/x-python",
   "name": "python",
   "nbconvert_exporter": "python",
   "pygments_lexer": "ipython3",
   "version": "3.12.4"
  }
 },
 "nbformat": 4,
 "nbformat_minor": 5
}
