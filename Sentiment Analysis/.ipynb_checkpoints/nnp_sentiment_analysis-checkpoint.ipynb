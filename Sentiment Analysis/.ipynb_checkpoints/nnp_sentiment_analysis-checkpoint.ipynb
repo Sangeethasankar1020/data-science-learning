{
 "cells": [
  {
   "cell_type": "code",
   "execution_count": 15,
   "id": "7687d03b-1bc8-4963-90e7-6096dfe8aef6",
   "metadata": {},
   "outputs": [
    {
     "name": "stdout",
     "output_type": "stream",
     "text": [
      "Collecting tweepy\n",
      "  Downloading tweepy-4.15.0-py3-none-any.whl.metadata (4.1 kB)\n",
      "Collecting oauthlib<4,>=3.2.0 (from tweepy)\n",
      "  Downloading oauthlib-3.2.2-py3-none-any.whl.metadata (7.5 kB)\n",
      "Requirement already satisfied: requests<3,>=2.27.0 in c:\\users\\dell 4\\anaconda3\\lib\\site-packages (from tweepy) (2.32.2)\n",
      "Collecting requests-oauthlib<3,>=1.2.0 (from tweepy)\n",
      "  Downloading requests_oauthlib-2.0.0-py2.py3-none-any.whl.metadata (11 kB)\n",
      "Requirement already satisfied: charset-normalizer<4,>=2 in c:\\users\\dell 4\\anaconda3\\lib\\site-packages (from requests<3,>=2.27.0->tweepy) (2.0.4)\n",
      "Requirement already satisfied: idna<4,>=2.5 in c:\\users\\dell 4\\anaconda3\\lib\\site-packages (from requests<3,>=2.27.0->tweepy) (3.7)\n",
      "Requirement already satisfied: urllib3<3,>=1.21.1 in c:\\users\\dell 4\\anaconda3\\lib\\site-packages (from requests<3,>=2.27.0->tweepy) (2.2.2)\n",
      "Requirement already satisfied: certifi>=2017.4.17 in c:\\users\\dell 4\\anaconda3\\lib\\site-packages (from requests<3,>=2.27.0->tweepy) (2024.8.30)\n",
      "Downloading tweepy-4.15.0-py3-none-any.whl (99 kB)\n",
      "   ---------------------------------------- 0.0/99.4 kB ? eta -:--:--\n",
      "   ------------------------------------- -- 92.2/99.4 kB 2.6 MB/s eta 0:00:01\n",
      "   ---------------------------------------- 99.4/99.4 kB 2.8 MB/s eta 0:00:00\n",
      "Downloading oauthlib-3.2.2-py3-none-any.whl (151 kB)\n",
      "   ---------------------------------------- 0.0/151.7 kB ? eta -:--:--\n",
      "   ---------------------------------------- 151.7/151.7 kB 4.4 MB/s eta 0:00:00\n",
      "Downloading requests_oauthlib-2.0.0-py2.py3-none-any.whl (24 kB)\n",
      "Installing collected packages: oauthlib, requests-oauthlib, tweepy\n",
      "Successfully installed oauthlib-3.2.2 requests-oauthlib-2.0.0 tweepy-4.15.0\n",
      "Note: you may need to restart the kernel to use updated packages.\n"
     ]
    }
   ],
   "source": [
    "pip install tweepy"
   ]
  },
  {
   "cell_type": "code",
   "execution_count": 17,
   "id": "970ead9d-2f6b-4db0-9461-af920c786b6e",
   "metadata": {},
   "outputs": [],
   "source": [
    "import tweepy"
   ]
  },
  {
   "cell_type": "code",
   "execution_count": 19,
   "id": "5ae133f6-9fdd-4ab8-be69-81ab93bb7e60",
   "metadata": {},
   "outputs": [],
   "source": [
    "import tweepy\n",
    "\n",
    "# Twitter API credentials\n",
    "API_KEY = \"xLjYuXCBCC5yILIC1AUw3nEfs\"\n",
    "API_SECRET = \"EzYqncsF5mW6JFr663kjp2ZnINcudJaWT8tRDgR4WL5TydUvHG\"\n",
    "ACCESS_TOKEN = \"1891336993629683712-GUET2hvg9kdzTRlMmVSI9TQxOAz5ey\"\n",
    "ACCESS_SECRET = \"Zhjdu4mwoOkxd1g2ZvgDLA3ALyIQvUTQMqG0IkACkChPm\"\n",
    "\n",
    "# Authenticate with Twitter API\n",
    "auth = tweepy.OAuthHandler(API_KEY, API_SECRET)\n",
    "auth.set_access_token(ACCESS_TOKEN, ACCESS_SECRET)\n",
    "api = tweepy.API(auth, wait_on_rate_limit=True)\n"
   ]
  },
  {
   "cell_type": "markdown",
   "id": "36809f9e-f753-4168-a46f-42b03dee10af",
   "metadata": {},
   "source": [
    "### Fetch Live Tweets Based on Keywords"
   ]
  },
  {
   "cell_type": "markdown",
   "id": "2577f634-baab-4024-a99f-cbb0489fa408",
   "metadata": {},
   "source": [
    "Let's fetch recent tweets on a trending topic, e.g., \"Tesla\"."
   ]
  },
  {
   "cell_type": "code",
   "execution_count": 27,
   "id": "4a525b83-fed6-4348-be5c-6cbf874e8eb0",
   "metadata": {},
   "outputs": [],
   "source": [
    "import tweepy\n",
    "\n",
    "# Twitter API v2 credentials (Get from developer portal)\n",
    "BEARER_TOKEN = \"AAAAAAAAAAAAAAAAAAAAAI%2FG0AEAAAAAXFk9E5kYF3Wb19TeSUMDGjc1SX8%3DbEVrTwGNX6aW2gG7np8bLgGKnzCokzVLdlB6itvcb5zUlfd3NI\"\n",
    "\n",
    "# Authenticate using Twitter API v2\n",
    "client = tweepy.Client(bearer_token=BEARER_TOKEN)\n"
   ]
  },
  {
   "cell_type": "code",
   "execution_count": 29,
   "id": "5b1b9735-ae33-4d01-a07d-2779e4419170",
   "metadata": {},
   "outputs": [
    {
     "name": "stdout",
     "output_type": "stream",
     "text": [
      "RT @time_for_ef: Fair: Europeans🇪🇺 react against a hostile figure.\n",
      "\n",
      "\"Tesla’s Europe sales collapse as anti-Musk backlash grows.\n",
      "To add insu…\n",
      "RT @libsoftiktok: Does anyone recognize this dude who slashed the tires of a Tesla in Philadelphia??\n",
      "RT @LauraLoomer: Indivisible is mass deleting content off their website after being called out for their organization of Tesla Takedown pro…\n",
      "RT @MarioNawfal: 🚨FINANCIAL TIMES FORCED TO APOLOGIZE AFTER FALSELY ACCUSING TESLA OF $1.4 BILLION “MISSING” IN SHADY ACCOUNTING\n",
      "\n",
      "The Finan…\n",
      "RT @CollinRugg: NEW: Man keys a Cybertruck in New Hampshire in his orange pants and then denies keying the truck to police while he was sti…\n",
      "RT @MilaLovesJoe: Have you heard this? \n",
      "\n",
      "Cooper Jo Frederick, 24, of Fort Collins, Colorado, was arrested in connection with an incident at…\n",
      "RT @RepMTG: Tonight, I saw an entitled Jasmine Crockett with a new Capitol Police escort walking through the already protected halls of Con…\n",
      "RT @NovaExcitement: @alokshukla's employees at @code_armor Jim Pelis &amp; Chuck Smith intentionally vandalized Tesla cyber truck this weekend…\n",
      "RT @cosmosforthewin: @Tesla_AI ❤️\n",
      "RT @elonmusk: Turns out that we can get radical leftists to burn down any government department if we just put a Tesla logo on it! \n",
      "\n",
      "This w…\n"
     ]
    }
   ],
   "source": [
    "def get_tweets_v2(keyword, count=10):\n",
    "    response = client.search_recent_tweets(\n",
    "        query=keyword, \n",
    "        max_results=count, \n",
    "        tweet_fields=[\"created_at\", \"text\", \"lang\"]\n",
    "    )\n",
    "\n",
    "    tweets = response.data\n",
    "    if tweets:\n",
    "        return [tweet.text for tweet in tweets]\n",
    "    else:\n",
    "        return []\n",
    "\n",
    "# Example: Fetch 10 tweets about \"Tesla\"\n",
    "tweets = get_tweets_v2(\"Tesla\", 10)\n",
    "for tweet in tweets:\n",
    "    print(tweet)\n"
   ]
  },
  {
   "cell_type": "markdown",
   "id": "f2fad63e-eee8-473d-8376-a1778fc508d4",
   "metadata": {},
   "source": [
    "# Twitter Sentiment Analysis Using Twitter API v2 & TextBlob"
   ]
  },
  {
   "cell_type": "markdown",
   "id": "03f35fc9-1d48-4006-b201-4b168813aa81",
   "metadata": {},
   "source": [
    "This project will:\n",
    "\n",
    "- Fetch live tweets using Twitter API v2 (Tweepy).\n",
    "\n",
    "- Perform sentiment analysis (positive, negative, neutral) using TextBlob.\n",
    "\n",
    "- Display the results with polarity scores"
   ]
  },
  {
   "cell_type": "code",
   "execution_count": 37,
   "id": "394167ad-1556-4a42-a6a4-26343ada7288",
   "metadata": {},
   "outputs": [
    {
     "name": "stdout",
     "output_type": "stream",
     "text": [
      "Collecting TextBlob\n",
      "  Downloading textblob-0.19.0-py3-none-any.whl.metadata (4.4 kB)\n",
      "Collecting nltk>=3.9 (from TextBlob)\n",
      "  Downloading nltk-3.9.1-py3-none-any.whl.metadata (2.9 kB)\n",
      "Requirement already satisfied: click in c:\\users\\dell 4\\anaconda3\\lib\\site-packages (from nltk>=3.9->TextBlob) (8.1.7)\n",
      "Requirement already satisfied: joblib in c:\\users\\dell 4\\anaconda3\\lib\\site-packages (from nltk>=3.9->TextBlob) (1.4.2)\n",
      "Requirement already satisfied: regex>=2021.8.3 in c:\\users\\dell 4\\anaconda3\\lib\\site-packages (from nltk>=3.9->TextBlob) (2023.10.3)\n",
      "Requirement already satisfied: tqdm in c:\\users\\dell 4\\anaconda3\\lib\\site-packages (from nltk>=3.9->TextBlob) (4.66.4)\n",
      "Requirement already satisfied: colorama in c:\\users\\dell 4\\anaconda3\\lib\\site-packages (from click->nltk>=3.9->TextBlob) (0.4.6)\n",
      "Downloading textblob-0.19.0-py3-none-any.whl (624 kB)\n",
      "   ---------------------------------------- 0.0/624.3 kB ? eta -:--:--\n",
      "    --------------------------------------- 10.2/624.3 kB ? eta -:--:--\n",
      "   ----------------- ---------------------- 266.2/624.3 kB 3.3 MB/s eta 0:00:01\n",
      "   ---------------------------------------- 624.3/624.3 kB 4.9 MB/s eta 0:00:00\n",
      "Downloading nltk-3.9.1-py3-none-any.whl (1.5 MB)\n",
      "   ---------------------------------------- 0.0/1.5 MB ? eta -:--:--\n",
      "   -------------- ------------------------- 0.5/1.5 MB 11.1 MB/s eta 0:00:01\n",
      "   ----------------------------- ---------- 1.1/1.5 MB 11.5 MB/s eta 0:00:01\n",
      "   ---------------------------------------  1.5/1.5 MB 12.0 MB/s eta 0:00:01\n",
      "   ---------------------------------------- 1.5/1.5 MB 10.7 MB/s eta 0:00:00\n",
      "Installing collected packages: nltk, TextBlob\n",
      "  Attempting uninstall: nltk\n",
      "    Found existing installation: nltk 3.8.1\n",
      "    Uninstalling nltk-3.8.1:\n",
      "      Successfully uninstalled nltk-3.8.1\n",
      "Successfully installed TextBlob-0.19.0 nltk-3.9.1\n",
      "Note: you may need to restart the kernel to use updated packages.\n"
     ]
    }
   ],
   "source": [
    "pip install TextBlob"
   ]
  },
  {
   "cell_type": "code",
   "execution_count": 39,
   "id": "d83e63c9-ce5e-4d71-82a8-8b5acf1c3c6e",
   "metadata": {},
   "outputs": [],
   "source": [
    "import tweepy\n",
    "from textblob import TextBlob\n",
    "import matplotlib.pyplot as plt"
   ]
  },
  {
   "cell_type": "markdown",
   "id": "cb183d93-02f5-45cc-a603-e613d3b5c379",
   "metadata": {},
   "source": [
    "### Set Up Twitter API v2 Authentication"
   ]
  },
  {
   "cell_type": "code",
   "execution_count": 45,
   "id": "b065b820-9a51-47d7-9368-f99b858b040f",
   "metadata": {},
   "outputs": [],
   "source": [
    "# Replace with your Twitter API v2 Bearer Token\n",
    "BEARER_TOKEN = \"AAAAAAAAAAAAAAAAAAAAAI%2FG0AEAAAAAXFk9E5kYF3Wb19TeSUMDGjc1SX8%3DbEVrTwGNX6aW2gG7np8bLgGKnzCokzVLdlB6itvcb5zUlfd3NI\"\n",
    "\n",
    "# Authenticate with Twitter API v2\n",
    "client = tweepy.Client(bearer_token=BEARER_TOKEN)\n"
   ]
  },
  {
   "cell_type": "markdown",
   "id": "f38e0209-aba0-4fa1-9a92-77d6d849a911",
   "metadata": {},
   "source": [
    "### Fetch Live Tweets"
   ]
  },
  {
   "cell_type": "markdown",
   "id": "2fb41eb1-9ef8-4e9e-9f4a-5cb3dcddfe52",
   "metadata": {},
   "source": [
    "We define a function to search for tweets about a specific keyword."
   ]
  },
  {
   "cell_type": "code",
   "execution_count": 51,
   "id": "bc3d23f6-a524-49a5-b6fa-5a912479f36e",
   "metadata": {},
   "outputs": [],
   "source": [
    "def get_tweets(keyword, count=10):\n",
    "    \"\"\"\n",
    "    Fetch recent tweets using Twitter API v2.\n",
    "    :param keyword: The topic to search for.\n",
    "    :param count: The number of tweets to fetch (Max 100 for free tier).\n",
    "    :return: List of tweet texts.\n",
    "    \"\"\"\n",
    "    response = client.search_recent_tweets(\n",
    "        query=keyword, \n",
    "        max_results=count,  # Maximum tweets to fetch\n",
    "        tweet_fields=[\"created_at\", \"text\", \"lang\"]\n",
    "    )\n",
    "\n",
    "    if response.data:\n",
    "        return [tweet.text for tweet in response.data]\n",
    "    else:\n",
    "        return []"
   ]
  },
  {
   "cell_type": "markdown",
   "id": "51e282bf-9fb4-41a4-ac10-feba1da5532c",
   "metadata": {},
   "source": [
    "🛠️ How It Works?\n",
    "\n",
    "- search_recent_tweets() fetches tweets from the last 7 days.\n",
    "\n",
    "- Returns text only (no retweets, replies, or media).\n",
    "\n",
    "- Limits:\n",
    "\n",
    "- Free users can only fetch 10 tweets per request.\n",
    "\n",
    "- Paid users can fetch up to 100 tweets per request."
   ]
  },
  {
   "cell_type": "markdown",
   "id": "2a288ed8-cefa-4056-8f71-3a81d0c0d402",
   "metadata": {},
   "source": [
    "### Perform Sentiment Analysis Using TextBlob"
   ]
  },
  {
   "cell_type": "code",
   "execution_count": 60,
   "id": "cccb06d0-6108-4f04-8f24-8e26107a4d09",
   "metadata": {},
   "outputs": [],
   "source": [
    "def analyze_sentiment(tweet):\n",
    "    \"\"\"\n",
    "    Analyze the sentiment of a tweet using TextBlob.\n",
    "    :param tweet: Tweet text.\n",
    "    :return: Sentiment label (Positive, Neutral, Negative).\n",
    "    \"\"\"\n",
    "    analysis = TextBlob(tweet)\n",
    "    polarity = analysis.sentiment.polarity  # Range from -1 to 1\n",
    "\n",
    "    if polarity > 0:\n",
    "        return \"Positive\"\n",
    "    elif polarity < 0:\n",
    "        return \"Negative\"\n",
    "    else:\n",
    "        return \"Neutral\""
   ]
  },
  {
   "cell_type": "markdown",
   "id": "73c685ef-eaf3-4f53-ae69-dd8ea1a3ae9a",
   "metadata": {},
   "source": [
    "🛠️ How It Works?\n",
    "\n",
    "- TextBlob assigns a polarity score:\n",
    "\n",
    "- > 0 → Positive\n",
    "\n",
    "- < 0 → Negative\n",
    "\n",
    "- = 0 → Neutral"
   ]
  },
  {
   "cell_type": "markdown",
   "id": "c667e5bf-47c8-4e88-90d9-31fcaf991444",
   "metadata": {},
   "source": [
    "### Count Sentiment Categories"
   ]
  },
  {
   "cell_type": "code",
   "execution_count": 69,
   "id": "100f4ae7-7680-4a9a-9f3a-7cd092659f1a",
   "metadata": {},
   "outputs": [],
   "source": [
    "def count_sentiments(tweets):\n",
    "    \"\"\"\n",
    "    Count the number of positive, neutral, and negative tweets.\n",
    "    :param tweets: List of tweets.\n",
    "    :return: Dictionary with sentiment counts.\n",
    "    \"\"\"\n",
    "    sentiment_counts = {\"Positive\": 0, \"Neutral\": 0, \"Negative\": 0}\n",
    "\n",
    "    for tweet in tweets:\n",
    "        sentiment = analyze_sentiment(tweet)\n",
    "        sentiment_counts[sentiment] += 1\n",
    "\n",
    "    return sentiment_counts"
   ]
  },
  {
   "cell_type": "markdown",
   "id": "04418b0d-b836-4dff-81d7-16c88ee818e7",
   "metadata": {},
   "source": [
    "🛠️ How It Works?\n",
    "\n",
    "- Iterates over each tweet, analyzes its sentiment, and counts occurrences."
   ]
  },
  {
   "cell_type": "markdown",
   "id": "49d2d9f2-49ec-4f73-8a4d-f26375c32686",
   "metadata": {},
   "source": [
    "### Visualize Sentiment Results"
   ]
  },
  {
   "cell_type": "code",
   "execution_count": 81,
   "id": "42fecd0c-9b66-4167-8f7e-a7d39130931c",
   "metadata": {},
   "outputs": [],
   "source": [
    "def plot_sentiments(sentiment_counts, keyword):\n",
    "    \"\"\"\n",
    "    Plot sentiment analysis results using a bar chart.\n",
    "    :param sentiment_counts: Dictionary containing counts of each sentiment.\n",
    "    :param keyword: The searched keyword.\n",
    "    \"\"\"\n",
    "    labels = list(sentiment_counts.keys())\n",
    "    values = list(sentiment_counts.values())\n",
    "\n",
    "    plt.figure(figsize=(6, 4))\n",
    "    plt.bar(labels, values, color=[\"green\", \"gray\", \"red\"])\n",
    "    plt.xlabel(\"Sentiment\")\n",
    "    plt.ylabel(\"Tweet Count\")\n",
    "    plt.title(f\"Sentiment Analysis of '{keyword}' on Twitter\")\n",
    "    plt.show()"
   ]
  },
  {
   "cell_type": "code",
   "execution_count": null,
   "id": "d64c6854-0fc1-4b68-a799-32d085a1a57d",
   "metadata": {},
   "outputs": [],
   "source": []
  },
  {
   "cell_type": "code",
   "execution_count": null,
   "id": "7d8dd52e-bc43-41a9-a98f-802d9d917bf3",
   "metadata": {},
   "outputs": [],
   "source": []
  },
  {
   "cell_type": "code",
   "execution_count": null,
   "id": "56457bf0-cd9a-4be5-833d-e1b48ab463b8",
   "metadata": {},
   "outputs": [],
   "source": []
  }
 ],
 "metadata": {
  "kernelspec": {
   "display_name": "Python 3 (ipykernel)",
   "language": "python",
   "name": "python3"
  },
  "language_info": {
   "codemirror_mode": {
    "name": "ipython",
    "version": 3
   },
   "file_extension": ".py",
   "mimetype": "text/x-python",
   "name": "python",
   "nbconvert_exporter": "python",
   "pygments_lexer": "ipython3",
   "version": "3.12.4"
  }
 },
 "nbformat": 4,
 "nbformat_minor": 5
}
