{
 "cells": [
  {
   "cell_type": "code",
   "execution_count": 28,
   "id": "1e158806-1e12-423a-8187-b95532f43f75",
   "metadata": {},
   "outputs": [
    {
     "name": "stderr",
     "output_type": "stream",
     "text": [
      "[nltk_data] Downloading package stopwords to C:\\Users\\DELL\n",
      "[nltk_data]     4\\AppData\\Roaming\\nltk_data...\n",
      "[nltk_data]   Package stopwords is already up-to-date!\n"
     ]
    },
    {
     "data": {
      "text/plain": [
       "True"
      ]
     },
     "execution_count": 28,
     "metadata": {},
     "output_type": "execute_result"
    }
   ],
   "source": [
    "import tweepy\n",
    "import nltk\n",
    "import pandas as pd\n",
    "import matplotlib.pyplot as plt\n",
    "from textblob import TextBlob\n",
    "from nltk.corpus import stopwords\n",
    "\n",
    "# Download NLTK stopwords if not downloaded\n",
    "nltk.download(\"stopwords\")\n"
   ]
  },
  {
   "cell_type": "code",
   "execution_count": 30,
   "id": "315c751e-668a-4764-9589-102200108eed",
   "metadata": {},
   "outputs": [],
   "source": [
    "# to fetch data from  v1.1\n",
    "\n",
    "# Twitter API credentials (replace with your own)\n",
    "#API_KEY = \"TAE02r9QCdpGqSfCjPu16HZQv\"\n",
    "#API_SECRET_KEY = \"VsPx5DnqIuTiPgLS5STF2osmntaNQOBMaJW3mjDMNgPlUpsKYz\"\n",
    "#ACCESS_TOKEN = \"1891336993629683712-KLuUrI76sjd99velyYnXejefBAf4f6\"\n",
    "#ACCESS_TOKEN_SECRET = \"47U0JSqTdmSODv2NGQOO2bfE6pVpLDR0Jx7OM1ByUkKfj\"\n",
    "\n",
    "# Authenticate with Twitter\n",
    "#auth = tweepy.OAuthHandler(API_KEY, API_SECRET_KEY)\n",
    "#auth.set_access_token(ACCESS_TOKEN, ACCESS_TOKEN_SECRET)\n",
    "#api = tweepy.API(auth, wait_on_rate_limit=True)\n"
   ]
  },
  {
   "cell_type": "markdown",
   "id": "af75c655-7e0e-44cd-ab53-aaaa3e7b8d75",
   "metadata": {},
   "source": [
    "### Use Twitter API v2 "
   ]
  },
  {
   "cell_type": "code",
   "execution_count": 32,
   "id": "6c7b3794-246d-4866-a1d9-0e20c387d37e",
   "metadata": {},
   "outputs": [
    {
     "name": "stdin",
     "output_type": "stream",
     "text": [
      "Enter keyword to search tweets:  ai\n",
      "Enter number of tweets to fetch:  300\n"
     ]
    },
    {
     "name": "stdout",
     "output_type": "stream",
     "text": [
      "Error: 429 Too Many Requests\n",
      "Too Many Requests\n"
     ]
    }
   ],
   "source": [
    "import tweepy\n",
    "import re\n",
    "import matplotlib.pyplot as plt\n",
    "from textblob import TextBlob\n",
    "\n",
    "# ✅ Step 1: Twitter API Authentication (Use API v2 Keys)\n",
    "BEARER_TOKEN = \"AAAAAAAAAAAAAAAAAAAAAI%2FG0AEAAAAAQQKjVovl2j84s971y66HfcGtqFY%3DsZGx1nKcbZ5QuoJztTI9eRBmYpfOib2bZXvM2iOgVD9VuIt05u\"\n",
    "\n",
    "# ✅ Step 2: Create Client Object for API v2\n",
    "client = tweepy.Client(bearer_token=BEARER_TOKEN)\n",
    "\n",
    "# ✅ Step 3: Function to Fetch Tweets\n",
    "def get_tweets(keyword, count=10):\n",
    "    \"\"\"\n",
    "    Fetch recent tweets using Twitter API v2.\n",
    "    \"\"\"\n",
    "    try:\n",
    "        # Fetch tweets using v2 API\n",
    "        response = client.search_recent_tweets(query=keyword, max_results=count, tweet_fields=[\"text\"])\n",
    "        \n",
    "        if response.data:\n",
    "            return [tweet.text for tweet in response.data]\n",
    "        else:\n",
    "            print(\"No tweets found. Try a different keyword.\")\n",
    "            return []\n",
    "    except tweepy.TweepyException as e:\n",
    "        print(\"Error:\", e)\n",
    "        return []\n",
    "\n",
    "# ✅ Step 4: Function to Clean Tweets\n",
    "def clean_tweet(tweet):\n",
    "    \"\"\"\n",
    "    Clean tweet text by removing links, mentions, and special characters.\n",
    "    \"\"\"\n",
    "    tweet = re.sub(r\"http\\S+|www\\S+|https\\S+\", \"\", tweet)  # Remove URLs\n",
    "    tweet = re.sub(r\"@\\w+|\\#\", \"\", tweet)  # Remove mentions and hashtags\n",
    "    tweet = re.sub(r\"[^\\w\\s]\", \"\", tweet)  # Remove special characters\n",
    "    return tweet.strip()\n",
    "\n",
    "# ✅ Step 5: Function to Analyze Sentiment\n",
    "def analyze_sentiment(tweet):\n",
    "    \"\"\"\n",
    "    Perform sentiment analysis using TextBlob.\n",
    "    \"\"\"\n",
    "    analysis = TextBlob(tweet)\n",
    "    if analysis.sentiment.polarity > 0:\n",
    "        return \"Positive\"\n",
    "    elif analysis.sentiment.polarity < 0:\n",
    "        return \"Negative\"\n",
    "    else:\n",
    "        return \"Neutral\"\n",
    "\n",
    "# ✅ Step 6: Function to Plot Sentiments\n",
    "def plot_sentiments(sentiment_counts, keyword):\n",
    "    \"\"\"\n",
    "    Plot sentiment analysis results using a bar chart.\n",
    "    \"\"\"\n",
    "    labels = list(sentiment_counts.keys())\n",
    "    values = list(sentiment_counts.values())\n",
    "\n",
    "    plt.figure(figsize=(8, 5))\n",
    "    plt.bar(labels, values, color=[\"green\", \"gray\", \"red\"])\n",
    "    plt.xlabel(\"Sentiment\")\n",
    "    plt.ylabel(\"Tweet Count\")\n",
    "    plt.title(f\"Sentiment Analysis of '{keyword}' on Twitter\")\n",
    "    plt.xticks(rotation=0)\n",
    "    plt.show()\n",
    "\n",
    "# ✅ Step 7: Main Program\n",
    "if __name__ == \"__main__\":\n",
    "    keyword = input(\"Enter keyword to search tweets: \")\n",
    "    num_tweets = int(input(\"Enter number of tweets to fetch: \"))\n",
    "\n",
    "    tweets = get_tweets(keyword, num_tweets)\n",
    "\n",
    "    if tweets:\n",
    "        cleaned_tweets = [clean_tweet(tweet) for tweet in tweets]\n",
    "        sentiments = [analyze_sentiment(tweet) for tweet in cleaned_tweets]\n",
    "\n",
    "        # Count sentiments\n",
    "        sentiment_counts = {\n",
    "            \"Positive\": sentiments.count(\"Positive\"),\n",
    "            \"Neutral\": sentiments.count(\"Neutral\"),\n",
    "            \"Negative\": sentiments.count(\"Negative\"),\n",
    "        }\n",
    "\n",
    "        # Display results\n",
    "        print(\"\\nSentiment Counts:\", sentiment_counts)\n",
    "        plot_sentiments(sentiment_counts, keyword)\n"
   ]
  },
  {
   "cell_type": "code",
   "execution_count": null,
   "id": "7079ac59-ada0-45e5-a799-f393218199c3",
   "metadata": {},
   "outputs": [],
   "source": []
  }
 ],
 "metadata": {
  "kernelspec": {
   "display_name": "Python 3 (ipykernel)",
   "language": "python",
   "name": "python3"
  },
  "language_info": {
   "codemirror_mode": {
    "name": "ipython",
    "version": 3
   },
   "file_extension": ".py",
   "mimetype": "text/x-python",
   "name": "python",
   "nbconvert_exporter": "python",
   "pygments_lexer": "ipython3",
   "version": "3.12.4"
  }
 },
 "nbformat": 4,
 "nbformat_minor": 5
}
