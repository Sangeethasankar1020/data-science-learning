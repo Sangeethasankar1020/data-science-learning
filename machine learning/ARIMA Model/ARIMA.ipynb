{
 "cells": [
  {
   "cell_type": "markdown",
   "id": "90fb99b2-37cd-4807-bed4-fd3ba3c73f9d",
   "metadata": {},
   "source": [
    "# Time Series Forecasting Using ARIMA"
   ]
  },
  {
   "cell_type": "markdown",
   "id": "b7b40e08-ffd7-4de2-8fde-761b50c07b8b",
   "metadata": {},
   "source": [
    "Time series forecasting is a crucial area in data science used for predicting future values based on past observations. The ARIMA (AutoRegressive Integrated Moving Average) model is one of the most widely used techniques for time series forecasting. Let's go step by step and understand the concepts in detail with real-time examples.\n",
    "\n"
   ]
  },
  {
   "cell_type": "markdown",
   "id": "cbfb91be-29f6-457e-ac31-a9440e24d246",
   "metadata": {},
   "source": [
    "### 1. What is a Time Series?"
   ]
  },
  {
   "cell_type": "markdown",
   "id": "9ecc0c8a-daa7-4664-8893-8db6a6582920",
   "metadata": {},
   "source": [
    "A time series is a sequence of data points collected at regular time intervals. Unlike cross-sectional data, where observations are independent, time series data exhibit patterns over time."
   ]
  },
  {
   "cell_type": "markdown",
   "id": "87176543-b8a0-46aa-bcc2-2c8e26b7cefe",
   "metadata": {},
   "source": [
    "Example"
   ]
  },
  {
   "cell_type": "markdown",
   "id": "035ee9ba-a81c-428a-8880-1b39bad1c1a3",
   "metadata": {},
   "source": [
    "- Stock Market Prices: The closing prices of a stock recorded daily.\n",
    "\n",
    "- Weather Forecasting: Temperature readings taken every hour.\n",
    "\n",
    "- Sales Data: Monthly sales of a retail store.\n",
    "\n",
    "- Website Traffic: Number of visitors to a website per day.\n",
    "\n"
   ]
  },
  {
   "cell_type": "markdown",
   "id": "491814d7-abd0-49b3-aa98-4f1b08bb74de",
   "metadata": {},
   "source": [
    "Characteristics of Time Series Data\n",
    "- Time-dependent: Observations are ordered by time.\n",
    "\n",
    "- Pattern Identification: Trends, seasonality, and cycles can be detected.\n",
    "\n",
    "- Stationarity Consideration: Many models assume the data is stationary."
   ]
  },
  {
   "cell_type": "markdown",
   "id": "e8b21b50-1957-467d-a1a6-7224464b9f86",
   "metadata": {},
   "source": [
    "### 2. Components of Time Series"
   ]
  },
  {
   "cell_type": "markdown",
   "id": "25743a73-c427-4884-b865-fb637bdb43c6",
   "metadata": {},
   "source": [
    "A time series consists of four main components:"
   ]
  },
  {
   "cell_type": "markdown",
   "id": "18fc17fb-901a-4155-b98a-9d1e418d76f3",
   "metadata": {},
   "source": [
    "**a) Trend**\n",
    "\n",
    "The long-term increase or decrease in the data over time.\n",
    "\n",
    "**example**\n",
    "- The increasing trend of electric vehicle adoption over the years.\n",
    "\n",
    "- Rising housing prices in a metropolitan city."
   ]
  },
  {
   "cell_type": "markdown",
   "id": "e724200d-5600-4a71-befe-052dda79d18d",
   "metadata": {},
   "source": [
    "**b) Seasonality**\n",
    "\n",
    "Repeating patterns in the data at fixed intervals (daily, monthly, yearly).\n",
    "\n",
    "\n",
    "**Example:**\n",
    "- Retail sales increasing during festive seasons like Black Friday.\n",
    "\n",
    "- Temperature variations across summer and winter."
   ]
  },
  {
   "cell_type": "markdown",
   "id": "3e851cb2-051b-4e67-884e-662b470d830e",
   "metadata": {},
   "source": [
    "**c) Cyclical Patterns**\n",
    "\n",
    "Patterns that occur over a longer duration but are not fixed like seasonality.\n",
    "\n",
    "    \n",
    "**Example:**\n",
    "- Economic cycles of recession and boom.\n",
    "\n",
    "- Real estate price fluctuations based on interest rates."
   ]
  },
  {
   "cell_type": "markdown",
   "id": "21350a55-f5e9-48f8-96b4-df0d3ae5eb56",
   "metadata": {},
   "source": [
    "**d) Random/Irregular Fluctuations**\n",
    "\n",
    "Unpredictable variations in data caused by external factors.\n",
    "\n",
    "**Example:**\n",
    "- Sudden stock market crashes due to geopolitical tensions.\n",
    "\n",
    "- Unexpected spikes in website traffic after viral content."
   ]
  },
  {
   "cell_type": "markdown",
   "id": "118cb2b2-a603-4125-af33-2d51ab57bc61",
   "metadata": {},
   "source": [
    "### 3. Stationarity in Time Series"
   ]
  },
  {
   "cell_type": "markdown",
   "id": "1084aa27-7d6e-4396-bcc5-d656e5cc6f61",
   "metadata": {},
   "source": [
    "A time series is said to be stationary if its statistical properties (mean, variance, autocorrelation) do not change over time. ARIMA requires a stationary time series."
   ]
  },
  {
   "cell_type": "markdown",
   "id": "46c7db55-a5a0-4792-9955-b4a74b0e056a",
   "metadata": {},
   "source": [
    "**Why is stationarity important?**\n",
    "- Many forecasting models, including ARIMA, assume stationarity to make accurate predictions.\n",
    "\n",
    "- If a time series is non-stationary, we use techniques like differencing to make it stationary."
   ]
  },
  {
   "cell_type": "markdown",
   "id": "fd0c655c-4b81-4ca0-a918-f19df27af3d0",
   "metadata": {},
   "source": [
    "**Real-time Example:** \n",
    "Consider monthly sales data of a retail store:\n",
    "\n",
    "- If the sales increase over time due to business expansion, the data is non-stationary.\n",
    "\n",
    "- By subtracting previous month's sales from the current month's sales (differencing), we can transform it into a stationary series.\n",
    "\n"
   ]
  },
  {
   "cell_type": "markdown",
   "id": "77a38a3c-2bdd-43e8-a91d-b3c8fba14f4c",
   "metadata": {},
   "source": [
    "### 4. ARIMA Model (AutoRegressive Integrated Moving Average)"
   ]
  },
  {
   "cell_type": "markdown",
   "id": "139d581e-5c40-46da-9ce4-96bb7ddbbf7c",
   "metadata": {},
   "source": [
    "The ARIMA model combines three components:"
   ]
  },
  {
   "cell_type": "markdown",
   "id": "1ddc5c19-a40f-42d0-9702-7c066fe26c20",
   "metadata": {},
   "source": [
    "**a) Autoregressive (AR) Model**\n",
    "\n",
    "AR models use past values to predict the current value.\n",
    "\n",
    "Example:\n",
    "Stock prices depend on their previous values:"
   ]
  },
  {
   "cell_type": "markdown",
   "id": "c9df8a16-dcc2-43d4-a252-4dcd39196fd9",
   "metadata": {},
   "source": [
    "**b) Moving Average (MA) Model**\n",
    "    \n",
    "MA models use past forecast errors to predict future values.\n",
    "\n",
    "Example:\n",
    "Demand forecasting for an e-commerce platform:"
   ]
  },
  {
   "cell_type": "markdown",
   "id": "d66ae897-1c2c-4345-aa07-e7a78e9ba8eb",
   "metadata": {},
   "source": [
    "**c) Integrated (I)**\n",
    "\n",
    "This represents the number of times differencing is applied to make the series stationary.\n",
    "\n",
    "Example:\n",
    "If a company's revenue data has a strong increasing trend, we apply differencing (\n",
    "𝑑\n",
    "d) once to remove the trend and make it stationary."
   ]
  },
  {
   "cell_type": "markdown",
   "id": "bcc738b1-d3f1-465c-9b43-e5219f6bd6ce",
   "metadata": {},
   "source": [
    "### Building an ARIMA Model"
   ]
  },
  {
   "cell_type": "markdown",
   "id": "f77e2d9b-6588-4372-b1f4-94dbd763a339",
   "metadata": {},
   "source": [
    "An ARIMA model is defined as ARIMA(p, d, q) where:\n",
    "\n",
    "\n",
    "- p = Number of autoregressive terms (AR)\n",
    "\n",
    "\n",
    "- d = Number of differencing needed to make series stationary (I)\n",
    "\n",
    "\n",
    "- q = Number of moving average terms (MA)"
   ]
  },
  {
   "cell_type": "markdown",
   "id": "d2e4549a-5c52-42b4-9793-ef2e342c74cb",
   "metadata": {},
   "source": [
    "**Step 1:** Check for Stationarity\n",
    "Use statistical tests like the Augmented Dickey-Fuller (ADF) Test.\n",
    "\n",
    "**Step 2:** Differencing (if necessary)\n",
    "If the series is non-stationary, apply differencing.\n",
    "\n",
    "**Step 3:** Determine AR and MA Terms\n",
    "Use Autocorrelation Function (ACF) and Partial Autocorrelation Function (PACF) to determine values for p and 𝑞\n",
    "\n",
    "**Step 4:** Fit ARIMA Model\n",
    "Use Python's statsmodels library to fit the model."
   ]
  },
  {
   "cell_type": "markdown",
   "id": "7b6a5b31-93a2-4b9b-bd25-73f3402ce3e8",
   "metadata": {},
   "source": [
    "### 6. Model Evaluation: AIC and Autocorrelation"
   ]
  },
  {
   "cell_type": "markdown",
   "id": "2c7c50f0-6ff7-4c21-8f19-bf82dfdf7ec8",
   "metadata": {},
   "source": [
    "**a) Autocorrelation**\n",
    "Measures the relationship between current and past values in a time series.\n",
    "\n",
    "**b) AIC (Akaike Information Criterion)**\n",
    "A lower AIC value indicates a better model."
   ]
  },
  {
   "cell_type": "markdown",
   "id": "9ec67320-6091-45dd-98f5-4183f979f2ea",
   "metadata": {},
   "source": [
    "### 7. Use Cases of ARIMA"
   ]
  },
  {
   "cell_type": "markdown",
   "id": "b2d8495c-c4fa-4735-aa30-4331c768cfd4",
   "metadata": {},
   "source": [
    "**a) Financial Forecasting**\n",
    "- Stock price predictions.\n",
    "\n",
    "- Exchange rate forecasting.\n",
    "\n",
    "**b) Demand Forecasting**\n",
    "- Predicting future sales of products.\n",
    "\n",
    "- Forecasting electricity demand.\n",
    "\n",
    "**c) Weather Forecasting**\n",
    "- Temperature prediction for upcoming days.\n",
    "\n",
    "**d) Healthcare Analytics**\n",
    "- Predicting patient admissions in hospitals."
   ]
  },
  {
   "cell_type": "markdown",
   "id": "3fd45753-47f8-415d-8ca1-bf5f9291f6a6",
   "metadata": {},
   "source": [
    "### Conclusion"
   ]
  },
  {
   "cell_type": "markdown",
   "id": "4f67a4c9-3df7-4192-86e6-aa86d54832c0",
   "metadata": {},
   "source": [
    "- Time series forecasting is essential for making data-driven decisions.\n",
    "\n",
    "- ARIMA is a powerful technique for short-term forecasting.\n",
    "\n",
    "- Understanding stationarity, ACF, and PACF helps in building an effective ARIMA model."
   ]
  },
  {
   "cell_type": "code",
   "execution_count": null,
   "id": "fa0267fa-ba1a-4c8c-8b22-103c02e928cd",
   "metadata": {},
   "outputs": [],
   "source": []
  },
  {
   "cell_type": "code",
   "execution_count": null,
   "id": "5bb283a0-492d-45c1-aaac-4260adde1aa2",
   "metadata": {},
   "outputs": [],
   "source": []
  },
  {
   "cell_type": "code",
   "execution_count": null,
   "id": "36a83433-081d-44ad-8809-98aa744d3033",
   "metadata": {},
   "outputs": [],
   "source": []
  },
  {
   "cell_type": "code",
   "execution_count": null,
   "id": "d5ce1ff9-383d-44f7-8f7d-222e34b0679b",
   "metadata": {},
   "outputs": [],
   "source": []
  }
 ],
 "metadata": {
  "kernelspec": {
   "display_name": "Python 3 (ipykernel)",
   "language": "python",
   "name": "python3"
  },
  "language_info": {
   "codemirror_mode": {
    "name": "ipython",
    "version": 3
   },
   "file_extension": ".py",
   "mimetype": "text/x-python",
   "name": "python",
   "nbconvert_exporter": "python",
   "pygments_lexer": "ipython3",
   "version": "3.12.4"
  }
 },
 "nbformat": 4,
 "nbformat_minor": 5
}
