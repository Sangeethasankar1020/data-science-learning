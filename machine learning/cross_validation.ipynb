{
 "cells": [
  {
   "cell_type": "markdown",
   "id": "4276be16-eddb-499b-835c-58752b16705e",
   "metadata": {},
   "source": [
    "#  Cross-Validation in Machine Learning"
   ]
  },
  {
   "cell_type": "markdown",
   "id": "df5b1b15-a6e6-4823-a433-c300c3ecafcf",
   "metadata": {},
   "source": [
    "Cross-validation is a technique to evaluate the model’s performance by splitting the dataset into multiple parts and training/testing on different subsets."
   ]
  },
  {
   "cell_type": "markdown",
   "id": "efb8f07e-8fff-421a-8ef9-35857f872e82",
   "metadata": {},
   "source": [
    "**🔹 Why Use Cross-Validation?**"
   ]
  },
  {
   "cell_type": "markdown",
   "id": "992e187f-9b06-4d2b-9bf8-50caa9602db4",
   "metadata": {},
   "source": [
    "- Prevents overfitting (model performing well on training data but poorly on unseen data).\n",
    "- Ensures the model is tested on different data splits, giving a more reliable accuracy.\n",
    "- Helps compare different models before selecting the best one."
   ]
  },
  {
   "cell_type": "markdown",
   "id": "1209bae0-72e1-4294-b76f-45545124b079",
   "metadata": {},
   "source": [
    "### How Does Cross-Validation Work?"
   ]
  },
  {
   "cell_type": "markdown",
   "id": "2554d016-452f-47e9-a9ef-502cab1aee5f",
   "metadata": {},
   "source": [
    "- Split the data into ‘k’ equal parts (folds)\n",
    "- Train the model on k-1 folds and test on the remaining fold\n",
    "- Repeat the process k times, each time using a different fold as test data\n",
    "- Average the results to get the final performance score\n",
    "- **The most common type is K-Fold Cross-Validation**"
   ]
  },
  {
   "cell_type": "code",
   "execution_count": 1,
   "id": "80514a6a-090b-4376-8933-199728e2e0df",
   "metadata": {},
   "outputs": [],
   "source": [
    "from sklearn.model_selection import cross_val_score\n",
    "from sklearn.ensemble import RandomForestClassifier\n",
    "from sklearn.datasets import load_breast_cancer"
   ]
  },
  {
   "cell_type": "code",
   "execution_count": 2,
   "id": "1fc7de11-cd3c-4721-8fcb-379cb270b74a",
   "metadata": {},
   "outputs": [],
   "source": [
    "# Load dataset\n",
    "data = load_breast_cancer()\n",
    "X, y = data.data, data.target"
   ]
  },
  {
   "cell_type": "code",
   "execution_count": 3,
   "id": "93886b33-5a47-4d8d-91b6-d796c32c018d",
   "metadata": {},
   "outputs": [],
   "source": [
    "# Define model\n",
    "model = RandomForestClassifier(n_estimators=100, random_state=42)"
   ]
  },
  {
   "cell_type": "code",
   "execution_count": 4,
   "id": "7dc2617b-c485-46dc-be69-8b5bd11e696a",
   "metadata": {},
   "outputs": [],
   "source": [
    "# Perform 5-Fold Cross-Validation\n",
    "cv_scores = cross_val_score(model, X, y, cv=5)"
   ]
  },
  {
   "cell_type": "code",
   "execution_count": 5,
   "id": "768ac961-7043-453d-86ca-40764f5f3e71",
   "metadata": {},
   "outputs": [
    {
     "name": "stdout",
     "output_type": "stream",
     "text": [
      "Cross-Validation Scores: [0.92105263 0.93859649 0.98245614 0.96491228 0.97345133]\n",
      "Average Accuracy: 0.96\n"
     ]
    }
   ],
   "source": [
    "# Print results\n",
    "print(f'Cross-Validation Scores: {cv_scores}')\n",
    "print(f'Average Accuracy: {cv_scores.mean():.2f}')"
   ]
  },
  {
   "cell_type": "markdown",
   "id": "3d14d03b-d18e-491c-beed-28804159b9e9",
   "metadata": {},
   "source": [
    "**What does this do?**\n",
    "\n",
    "- Splits the dataset into 5 folds.\n",
    "- Trains the model on 4 folds and tests it on the remaining fold.\n",
    "- Repeats this process 5 times and averages the accuracy.\n"
   ]
  },
  {
   "cell_type": "markdown",
   "id": "6a8172d9-e768-4e61-a5bd-dcadfd05f418",
   "metadata": {},
   "source": [
    "### 🔹 Types of Cross-Validation"
   ]
  },
  {
   "cell_type": "markdown",
   "id": "70b86425-4d8a-4685-b4f1-b824b46e5abb",
   "metadata": {},
   "source": [
    "**1️⃣ K-Fold Cross-Validation (Most Common)**\n",
    "\n",
    "- Splits data into K equal parts (e.g., 5-fold or 10-fold).\n",
    "- Uses K-1 folds for training and 1 fold for testing.\n",
    "- Repeats this K times.\n",
    "\n"
   ]
  },
  {
   "cell_type": "markdown",
   "id": "38d90053-2e43-464b-bbeb-250e064d6230",
   "metadata": {},
   "source": [
    "**2️⃣ Stratified K-Fold Cross-Validation**\n",
    "\n",
    "- Ensures each fold has a balanced distribution of classes (useful for imbalanced datasets).\n"
   ]
  },
  {
   "cell_type": "markdown",
   "id": "64e638a9-1e4a-4b61-9512-7a93c2e843d9",
   "metadata": {},
   "source": [
    "**3️⃣ Leave-One-Out Cross-Validation (LOOCV)**\n",
    "\n",
    "- Uses one sample as test data, trains on the rest.\n",
    "- Very accurate but slow for large datasets."
   ]
  },
  {
   "cell_type": "markdown",
   "id": "c004ed97-0815-4ebc-908b-2e12e76cccac",
   "metadata": {},
   "source": [
    "### 🔹 When to Use Cross-Validation?"
   ]
  },
  {
   "cell_type": "markdown",
   "id": "58a252bb-ce06-45df-a8b9-67591fb59ca6",
   "metadata": {},
   "source": [
    "- ✔️ When dataset is small, and you need better generalization.\n",
    "- ✔️ When tuning hyperparameters to get the best model.\n",
    "- ✔️ When comparing different ML algorithms."
   ]
  },
  {
   "cell_type": "code",
   "execution_count": null,
   "id": "9c2bb42f-4af8-4364-b67a-7c0e2093e0e9",
   "metadata": {},
   "outputs": [],
   "source": []
  },
  {
   "cell_type": "code",
   "execution_count": null,
   "id": "04daccc7-3947-44d0-b7a7-1cfcc4ffab2b",
   "metadata": {},
   "outputs": [],
   "source": []
  },
  {
   "cell_type": "code",
   "execution_count": null,
   "id": "72b7c81b-e554-4533-8a6a-acd658c008fe",
   "metadata": {},
   "outputs": [],
   "source": []
  }
 ],
 "metadata": {
  "kernelspec": {
   "display_name": "Python 3 (ipykernel)",
   "language": "python",
   "name": "python3"
  },
  "language_info": {
   "codemirror_mode": {
    "name": "ipython",
    "version": 3
   },
   "file_extension": ".py",
   "mimetype": "text/x-python",
   "name": "python",
   "nbconvert_exporter": "python",
   "pygments_lexer": "ipython3",
   "version": "3.12.3"
  }
 },
 "nbformat": 4,
 "nbformat_minor": 5
}
