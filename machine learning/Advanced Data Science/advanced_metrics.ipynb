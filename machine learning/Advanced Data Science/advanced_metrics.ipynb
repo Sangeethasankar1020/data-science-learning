{
 "cells": [
  {
   "cell_type": "markdown",
   "id": "168ea2dc-9a6c-40d5-bc60-dfa3208d4df2",
   "metadata": {},
   "source": [
    "# Advanced Metrics (ROC-AUC, R², Precision, Recall)"
   ]
  },
  {
   "cell_type": "markdown",
   "id": "ff961509-4cdf-4a69-974d-24a2cd123758",
   "metadata": {},
   "source": [
    "### Why use advanced metrics?"
   ]
  },
  {
   "cell_type": "markdown",
   "id": "2ae67a82-67a3-4173-9850-5b6e937783c7",
   "metadata": {},
   "source": [
    "Basic accuracy is often misleading, especially for imbalanced datasets (e.g., fraud detection, medical diagnosis). Advanced metrics help evaluate model performance more effectively."
   ]
  },
  {
   "cell_type": "markdown",
   "id": "540b8d8e-6a97-4852-bac2-b4266dd1b557",
   "metadata": {},
   "source": [
    "## Key Metrics:"
   ]
  },
  {
   "cell_type": "markdown",
   "id": "cdd004e5-76a5-4387-9b36-c18718022a35",
   "metadata": {},
   "source": [
    "**1.ROC-AUC (Receiver Operating Characteristic - Area Under Curve)**\n",
    "\n",
    "- Measures how well a classification model distinguishes between classes.\n",
    "\n",
    "- Use case: Credit card fraud detection (distinguishing fraud vs. non-fraud)."
   ]
  },
  {
   "cell_type": "markdown",
   "id": "7a488790-8001-445f-93cd-00ea3bab73cc",
   "metadata": {},
   "source": [
    "**2.R² Score (Coefficient of Determination)**\n",
    "\n",
    "- Evaluates regression model performance by measuring variance explained by the model.\n",
    "\n",
    "- Use case: Predicting house prices."
   ]
  },
  {
   "cell_type": "markdown",
   "id": "04bc598d-0977-43e7-9e38-92c9f87fe1d3",
   "metadata": {},
   "source": [
    "**3.Precision & Recall**\n",
    "\n",
    "- Precision (Positive Predictive Value): Out of predicted positives, how many were correct?\n",
    "\n",
    "- Recall (Sensitivity): Out of actual positives, how many were identified?\n",
    "\n",
    "- Use case: Medical diagnosis (identifying cancer cases correctly)."
   ]
  },
  {
   "cell_type": "markdown",
   "id": "a13fd50e-3ea5-47d7-b01c-8d0867419dc6",
   "metadata": {},
   "source": [
    "### Dataset: Heart Disease Prediction"
   ]
  },
  {
   "cell_type": "markdown",
   "id": "de4fc6ae-3bcb-4f20-b16f-e28b0c67ada5",
   "metadata": {},
   "source": [
    "- Dataset: UCI Heart Disease dataset\n",
    "\n",
    "- Model: Logistic Regression (classification)\n"
   ]
  },
  {
   "cell_type": "code",
   "execution_count": 35,
   "id": "57ac047e-4b27-4f87-b468-344892773f13",
   "metadata": {},
   "outputs": [
    {
     "name": "stdout",
     "output_type": "stream",
     "text": [
      "ROC-AUC Score: 0.6458333333333333\n",
      "Precision: 0.6\n",
      "Recall: 0.25\n"
     ]
    }
   ],
   "source": [
    "from sklearn.model_selection import train_test_split\n",
    "from sklearn.linear_model import LogisticRegression\n",
    "from sklearn.metrics import roc_auc_score, precision_score, recall_score\n",
    "\n",
    "# Sample Data (Assume heart.csv contains patient features)\n",
    "import pandas as pd\n",
    "data = pd.read_csv('heart.csv')\n",
    "\n",
    "# Train-Test Split\n",
    "X = data.drop(columns=['target'])\n",
    "y = data['target']\n",
    "X_train, X_test, y_train, y_test = train_test_split(X, y, test_size=0.2, random_state=42)\n",
    "\n",
    "# Train Model\n",
    "model = LogisticRegression()\n",
    "model.fit(X_train, y_train)\n",
    "\n",
    "# Predictions & Metrics\n",
    "y_pred = model.predict(X_test)\n",
    "y_proba = model.predict_proba(X_test)[:,1]\n",
    "\n",
    "print(\"ROC-AUC Score:\", roc_auc_score(y_test, y_proba))\n",
    "print(\"Precision:\", precision_score(y_test, y_pred))\n",
    "print(\"Recall:\", recall_score(y_test, y_pred))\n",
    "\n"
   ]
  },
  {
   "cell_type": "code",
   "execution_count": null,
   "id": "b1af29d2-8e98-4e3a-89be-76030b568649",
   "metadata": {},
   "outputs": [],
   "source": []
  },
  {
   "cell_type": "code",
   "execution_count": null,
   "id": "f33c58bb-b0d9-4315-ae6e-5d12cd1eff68",
   "metadata": {},
   "outputs": [],
   "source": []
  }
 ],
 "metadata": {
  "kernelspec": {
   "display_name": "Python 3 (ipykernel)",
   "language": "python",
   "name": "python3"
  },
  "language_info": {
   "codemirror_mode": {
    "name": "ipython",
    "version": 3
   },
   "file_extension": ".py",
   "mimetype": "text/x-python",
   "name": "python",
   "nbconvert_exporter": "python",
   "pygments_lexer": "ipython3",
   "version": "3.12.4"
  }
 },
 "nbformat": 4,
 "nbformat_minor": 5
}
