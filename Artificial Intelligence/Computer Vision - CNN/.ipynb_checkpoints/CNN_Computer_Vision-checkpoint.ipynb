{
 "cells": [
  {
   "cell_type": "markdown",
   "id": "495f39fc-c3f2-4866-b80a-0e7d818484bc",
   "metadata": {
    "jupyter": {
     "source_hidden": true
    }
   },
   "source": [
    "# Convolutional Neural Network (CNN)"
   ]
  },
  {
   "cell_type": "markdown",
   "id": "432d25ba-5b9e-44c1-b03f-d6d688bc50a4",
   "metadata": {},
   "source": [
    "CNN is a deep learning model specifically designed for processing grid-like data, especially images."
   ]
  },
  {
   "cell_type": "markdown",
   "id": "47ccf7d5-0406-4422-9ca1-7153d6fd2f5d",
   "metadata": {},
   "source": [
    "**Key Concept**"
   ]
  },
  {
   "cell_type": "markdown",
   "id": "e53ce801-c6e5-42ba-9d9d-f202069f39b4",
   "metadata": {},
   "source": [
    "Images are made up of pixels, which can be represented as matrices (2D for grayscale, 3D for RGB). CNNs are excellent at detecting spatial hierarchies in images (like edges → shapes → objects)."
   ]
  },
  {
   "cell_type": "markdown",
   "id": "c41827f9-5be9-40a2-ac96-6e05bd481c51",
   "metadata": {},
   "source": [
    "### Why CNN?"
   ]
  },
  {
   "cell_type": "markdown",
   "id": "a80c00ef-2dae-4338-88ae-1bdca76e0d96",
   "metadata": {},
   "source": [
    "Traditional machine learning models like Logistic Regression or even Feedforward Neural Networks fail with image data because:\n",
    "\n",
    "- They don’t capture spatial relationships.\n",
    "\n",
    "- They have too many parameters if the image is high resolution.\n",
    "\n",
    "- Feature engineering (edges, textures) has to be manually done."
   ]
  },
  {
   "cell_type": "code",
   "execution_count": null,
   "id": "c3d288af-ccd3-46ac-b78d-73c40c722355",
   "metadata": {},
   "outputs": [],
   "source": [
    "import tensorflow as tf\n",
    "import numpy as np\n",
    "import matplotlib.pyplot as plt\n",
    "import os\n",
    "\n",
    "from tensorflow.keras import layers, models\n",
    "from tensorflow.keras.preprocessing.image import ImageDataGenerator"
   ]
  }
 ],
 "metadata": {
  "kernelspec": {
   "display_name": "Python 3 (ipykernel)",
   "language": "python",
   "name": "python3"
  },
  "language_info": {
   "codemirror_mode": {
    "name": "ipython",
    "version": 3
   },
   "file_extension": ".py",
   "mimetype": "text/x-python",
   "name": "python",
   "nbconvert_exporter": "python",
   "pygments_lexer": "ipython3",
   "version": "3.10.5"
  }
 },
 "nbformat": 4,
 "nbformat_minor": 5
}
