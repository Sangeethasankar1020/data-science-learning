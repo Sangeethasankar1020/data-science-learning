{
 "cells": [
  {
   "cell_type": "code",
   "execution_count": 140,
   "id": "1c9792b8-cf23-4fb8-8677-62dfcc0a9d7b",
   "metadata": {},
   "outputs": [],
   "source": [
    "import pandas as pd\n",
    "import matplotlib.pyplot as plt\n",
    "import seaborn as sns\n",
    "from sklearn.linear_model import LinearRegression\n",
    "from sklearn.preprocessing import LabelEncoder"
   ]
  },
  {
   "cell_type": "code",
   "execution_count": 142,
   "id": "a2f22421-cddd-4fef-9201-133bf0ee404b",
   "metadata": {},
   "outputs": [
    {
     "data": {
      "text/html": [
       "<div>\n",
       "<style scoped>\n",
       "    .dataframe tbody tr th:only-of-type {\n",
       "        vertical-align: middle;\n",
       "    }\n",
       "\n",
       "    .dataframe tbody tr th {\n",
       "        vertical-align: top;\n",
       "    }\n",
       "\n",
       "    .dataframe thead th {\n",
       "        text-align: right;\n",
       "    }\n",
       "</style>\n",
       "<table border=\"1\" class=\"dataframe\">\n",
       "  <thead>\n",
       "    <tr style=\"text-align: right;\">\n",
       "      <th></th>\n",
       "      <th>Name</th>\n",
       "      <th>Gender</th>\n",
       "      <th>Job Role</th>\n",
       "      <th>Experience (Years)</th>\n",
       "      <th>Education Level</th>\n",
       "      <th>Salary</th>\n",
       "    </tr>\n",
       "  </thead>\n",
       "  <tbody>\n",
       "    <tr>\n",
       "      <th>0</th>\n",
       "      <td>John</td>\n",
       "      <td>Male</td>\n",
       "      <td>Engineer</td>\n",
       "      <td>3</td>\n",
       "      <td>Bachelor</td>\n",
       "      <td>70000</td>\n",
       "    </tr>\n",
       "    <tr>\n",
       "      <th>1</th>\n",
       "      <td>Alice</td>\n",
       "      <td>Female</td>\n",
       "      <td>Engineer</td>\n",
       "      <td>3</td>\n",
       "      <td>Bachelor</td>\n",
       "      <td>65000</td>\n",
       "    </tr>\n",
       "    <tr>\n",
       "      <th>2</th>\n",
       "      <td>Robert</td>\n",
       "      <td>Male</td>\n",
       "      <td>Analyst</td>\n",
       "      <td>2</td>\n",
       "      <td>Bachelor</td>\n",
       "      <td>50000</td>\n",
       "    </tr>\n",
       "    <tr>\n",
       "      <th>3</th>\n",
       "      <td>Mary</td>\n",
       "      <td>Female</td>\n",
       "      <td>Analyst</td>\n",
       "      <td>2</td>\n",
       "      <td>Bachelor</td>\n",
       "      <td>47000</td>\n",
       "    </tr>\n",
       "    <tr>\n",
       "      <th>4</th>\n",
       "      <td>David</td>\n",
       "      <td>Male</td>\n",
       "      <td>Manager</td>\n",
       "      <td>8</td>\n",
       "      <td>Bachelor</td>\n",
       "      <td>120000</td>\n",
       "    </tr>\n",
       "    <tr>\n",
       "      <th>5</th>\n",
       "      <td>Emma</td>\n",
       "      <td>Female</td>\n",
       "      <td>Manager</td>\n",
       "      <td>8</td>\n",
       "      <td>Bachelor</td>\n",
       "      <td>110000</td>\n",
       "    </tr>\n",
       "    <tr>\n",
       "      <th>6</th>\n",
       "      <td>James</td>\n",
       "      <td>Male</td>\n",
       "      <td>HR</td>\n",
       "      <td>4</td>\n",
       "      <td>Bachelor</td>\n",
       "      <td>60000</td>\n",
       "    </tr>\n",
       "    <tr>\n",
       "      <th>7</th>\n",
       "      <td>Olivia</td>\n",
       "      <td>Female</td>\n",
       "      <td>HR</td>\n",
       "      <td>4</td>\n",
       "      <td>Bachelor</td>\n",
       "      <td>58000</td>\n",
       "    </tr>\n",
       "    <tr>\n",
       "      <th>8</th>\n",
       "      <td>Daniel</td>\n",
       "      <td>Male</td>\n",
       "      <td>Tech Lead</td>\n",
       "      <td>10</td>\n",
       "      <td>Bachelor</td>\n",
       "      <td>130000</td>\n",
       "    </tr>\n",
       "    <tr>\n",
       "      <th>9</th>\n",
       "      <td>Sophia</td>\n",
       "      <td>Female</td>\n",
       "      <td>Tech Lead</td>\n",
       "      <td>10</td>\n",
       "      <td>Bachelor</td>\n",
       "      <td>125000</td>\n",
       "    </tr>\n",
       "    <tr>\n",
       "      <th>10</th>\n",
       "      <td>Chris</td>\n",
       "      <td>Male</td>\n",
       "      <td>Data Scientist</td>\n",
       "      <td>5</td>\n",
       "      <td>Bachelor</td>\n",
       "      <td>95000</td>\n",
       "    </tr>\n",
       "    <tr>\n",
       "      <th>11</th>\n",
       "      <td>Ava</td>\n",
       "      <td>Female</td>\n",
       "      <td>Data Scientist</td>\n",
       "      <td>5</td>\n",
       "      <td>Bachelor</td>\n",
       "      <td>90000</td>\n",
       "    </tr>\n",
       "    <tr>\n",
       "      <th>12</th>\n",
       "      <td>Mike</td>\n",
       "      <td>Male</td>\n",
       "      <td>Support</td>\n",
       "      <td>1</td>\n",
       "      <td>Bachelor</td>\n",
       "      <td>40000</td>\n",
       "    </tr>\n",
       "    <tr>\n",
       "      <th>13</th>\n",
       "      <td>Isabella</td>\n",
       "      <td>Female</td>\n",
       "      <td>Support</td>\n",
       "      <td>1</td>\n",
       "      <td>Bachelor</td>\n",
       "      <td>39000</td>\n",
       "    </tr>\n",
       "    <tr>\n",
       "      <th>14</th>\n",
       "      <td>Tom</td>\n",
       "      <td>Male</td>\n",
       "      <td>Consultant</td>\n",
       "      <td>6</td>\n",
       "      <td>Bachelor</td>\n",
       "      <td>100000</td>\n",
       "    </tr>\n",
       "    <tr>\n",
       "      <th>15</th>\n",
       "      <td>Mia</td>\n",
       "      <td>Female</td>\n",
       "      <td>Consultant</td>\n",
       "      <td>6</td>\n",
       "      <td>Bachelor</td>\n",
       "      <td>96000</td>\n",
       "    </tr>\n",
       "    <tr>\n",
       "      <th>16</th>\n",
       "      <td>Jack</td>\n",
       "      <td>Male</td>\n",
       "      <td>QA</td>\n",
       "      <td>2</td>\n",
       "      <td>Bachelor</td>\n",
       "      <td>52000</td>\n",
       "    </tr>\n",
       "    <tr>\n",
       "      <th>17</th>\n",
       "      <td>Lily</td>\n",
       "      <td>Female</td>\n",
       "      <td>QA</td>\n",
       "      <td>2</td>\n",
       "      <td>Bachelor</td>\n",
       "      <td>50000</td>\n",
       "    </tr>\n",
       "    <tr>\n",
       "      <th>18</th>\n",
       "      <td>Ryan</td>\n",
       "      <td>Male</td>\n",
       "      <td>Admin</td>\n",
       "      <td>1</td>\n",
       "      <td>Bachelor</td>\n",
       "      <td>41000</td>\n",
       "    </tr>\n",
       "    <tr>\n",
       "      <th>19</th>\n",
       "      <td>Emily</td>\n",
       "      <td>Female</td>\n",
       "      <td>Admin</td>\n",
       "      <td>1</td>\n",
       "      <td>Bachelor</td>\n",
       "      <td>39000</td>\n",
       "    </tr>\n",
       "  </tbody>\n",
       "</table>\n",
       "</div>"
      ],
      "text/plain": [
       "        Name  Gender        Job Role  Experience (Years) Education Level  \\\n",
       "0       John    Male        Engineer                   3        Bachelor   \n",
       "1      Alice  Female        Engineer                   3        Bachelor   \n",
       "2     Robert    Male         Analyst                   2        Bachelor   \n",
       "3       Mary  Female         Analyst                   2        Bachelor   \n",
       "4      David    Male         Manager                   8        Bachelor   \n",
       "5       Emma  Female         Manager                   8        Bachelor   \n",
       "6      James    Male              HR                   4        Bachelor   \n",
       "7     Olivia  Female              HR                   4        Bachelor   \n",
       "8     Daniel    Male       Tech Lead                  10        Bachelor   \n",
       "9     Sophia  Female       Tech Lead                  10        Bachelor   \n",
       "10     Chris    Male  Data Scientist                   5        Bachelor   \n",
       "11       Ava  Female  Data Scientist                   5        Bachelor   \n",
       "12      Mike    Male         Support                   1        Bachelor   \n",
       "13  Isabella  Female         Support                   1        Bachelor   \n",
       "14       Tom    Male      Consultant                   6        Bachelor   \n",
       "15       Mia  Female      Consultant                   6        Bachelor   \n",
       "16      Jack    Male              QA                   2        Bachelor   \n",
       "17      Lily  Female              QA                   2        Bachelor   \n",
       "18      Ryan    Male           Admin                   1        Bachelor   \n",
       "19     Emily  Female           Admin                   1        Bachelor   \n",
       "\n",
       "    Salary  \n",
       "0    70000  \n",
       "1    65000  \n",
       "2    50000  \n",
       "3    47000  \n",
       "4   120000  \n",
       "5   110000  \n",
       "6    60000  \n",
       "7    58000  \n",
       "8   130000  \n",
       "9   125000  \n",
       "10   95000  \n",
       "11   90000  \n",
       "12   40000  \n",
       "13   39000  \n",
       "14  100000  \n",
       "15   96000  \n",
       "16   52000  \n",
       "17   50000  \n",
       "18   41000  \n",
       "19   39000  "
      ]
     },
     "execution_count": 142,
     "metadata": {},
     "output_type": "execute_result"
    }
   ],
   "source": [
    "data = {\n",
    "    'Name': ['John', 'Alice', 'Robert', 'Mary', 'David', 'Emma', 'James', 'Olivia', 'Daniel', 'Sophia',\n",
    "             'Chris', 'Ava', 'Mike', 'Isabella', 'Tom', 'Mia', 'Jack', 'Lily', 'Ryan', 'Emily'],\n",
    "    'Gender': ['Male', 'Female'] * 10,\n",
    "    'Job Role': ['Engineer', 'Engineer', 'Analyst', 'Analyst', 'Manager', 'Manager', 'HR', 'HR', 'Tech Lead', 'Tech Lead',\n",
    "                 'Data Scientist', 'Data Scientist', 'Support', 'Support', 'Consultant', 'Consultant', 'QA', 'QA', 'Admin', 'Admin'],\n",
    "    'Experience (Years)': [3, 3, 2, 2, 8, 8, 4, 4, 10, 10, 5, 5, 1, 1, 6, 6, 2, 2, 1, 1],\n",
    "    'Education Level': ['Bachelor'] * 20,\n",
    "    'Salary': [70000, 65000, 50000, 47000, 120000, 110000, 60000, 58000, 130000, 125000,\n",
    "               95000, 90000, 40000, 39000, 100000, 96000, 52000, 50000, 41000, 39000]\n",
    "}\n",
    "\n",
    "df = pd.DataFrame(data)\n",
    "df\n"
   ]
  },
  {
   "cell_type": "code",
   "execution_count": 144,
   "id": "1b911fc1-a568-4d60-acc8-8a909bed1b39",
   "metadata": {},
   "outputs": [
    {
     "data": {
      "text/html": [
       "<div>\n",
       "<style scoped>\n",
       "    .dataframe tbody tr th:only-of-type {\n",
       "        vertical-align: middle;\n",
       "    }\n",
       "\n",
       "    .dataframe tbody tr th {\n",
       "        vertical-align: top;\n",
       "    }\n",
       "\n",
       "    .dataframe thead th {\n",
       "        text-align: right;\n",
       "    }\n",
       "</style>\n",
       "<table border=\"1\" class=\"dataframe\">\n",
       "  <thead>\n",
       "    <tr style=\"text-align: right;\">\n",
       "      <th></th>\n",
       "      <th>Experience (Years)</th>\n",
       "      <th>Salary</th>\n",
       "    </tr>\n",
       "  </thead>\n",
       "  <tbody>\n",
       "    <tr>\n",
       "      <th>count</th>\n",
       "      <td>20.000000</td>\n",
       "      <td>20.000000</td>\n",
       "    </tr>\n",
       "    <tr>\n",
       "      <th>mean</th>\n",
       "      <td>4.200000</td>\n",
       "      <td>73850.000000</td>\n",
       "    </tr>\n",
       "    <tr>\n",
       "      <th>std</th>\n",
       "      <td>2.966479</td>\n",
       "      <td>31300.369932</td>\n",
       "    </tr>\n",
       "    <tr>\n",
       "      <th>min</th>\n",
       "      <td>1.000000</td>\n",
       "      <td>39000.000000</td>\n",
       "    </tr>\n",
       "    <tr>\n",
       "      <th>25%</th>\n",
       "      <td>2.000000</td>\n",
       "      <td>49250.000000</td>\n",
       "    </tr>\n",
       "    <tr>\n",
       "      <th>50%</th>\n",
       "      <td>3.500000</td>\n",
       "      <td>62500.000000</td>\n",
       "    </tr>\n",
       "    <tr>\n",
       "      <th>75%</th>\n",
       "      <td>6.000000</td>\n",
       "      <td>97000.000000</td>\n",
       "    </tr>\n",
       "    <tr>\n",
       "      <th>max</th>\n",
       "      <td>10.000000</td>\n",
       "      <td>130000.000000</td>\n",
       "    </tr>\n",
       "  </tbody>\n",
       "</table>\n",
       "</div>"
      ],
      "text/plain": [
       "       Experience (Years)         Salary\n",
       "count           20.000000      20.000000\n",
       "mean             4.200000   73850.000000\n",
       "std              2.966479   31300.369932\n",
       "min              1.000000   39000.000000\n",
       "25%              2.000000   49250.000000\n",
       "50%              3.500000   62500.000000\n",
       "75%              6.000000   97000.000000\n",
       "max             10.000000  130000.000000"
      ]
     },
     "execution_count": 144,
     "metadata": {},
     "output_type": "execute_result"
    }
   ],
   "source": [
    "#basic statistics\n",
    "df.describe()"
   ]
  },
  {
   "cell_type": "code",
   "execution_count": 145,
   "id": "44a7783b-98cb-44d2-92f2-2ec1a77ce77b",
   "metadata": {},
   "outputs": [
    {
     "name": "stdout",
     "output_type": "stream",
     "text": [
      "\n",
      " Gender Distribution\n",
      "Gender\n",
      "Male      10\n",
      "Female    10\n",
      "Name: count, dtype: int64\n"
     ]
    }
   ],
   "source": [
    "#gender count \n",
    "print(\"\\n Gender Distribution\")\n",
    "print(df[\"Gender\"].value_counts())"
   ]
  },
  {
   "cell_type": "code",
   "execution_count": 146,
   "id": "37105452-8914-4bae-9e94-dc5a61e0529c",
   "metadata": {},
   "outputs": [],
   "source": [
    "#average salary by gender "
   ]
  },
  {
   "cell_type": "code",
   "execution_count": 147,
   "id": "c20cfed3-91a3-4bea-90e3-d9f7ba024432",
   "metadata": {},
   "outputs": [
    {
     "name": "stdout",
     "output_type": "stream",
     "text": [
      "\n",
      " Average Salary by Gender\n",
      "Gender\n",
      "Female    71900.0\n",
      "Male      75800.0\n",
      "Name: Salary, dtype: float64\n"
     ]
    }
   ],
   "source": [
    "avg_salary =df.groupby(\"Gender\")[\"Salary\"].mean()\n",
    "print(\"\\n Average Salary by Gender\")\n",
    "print(avg_salary)"
   ]
  },
  {
   "cell_type": "code",
   "execution_count": 149,
   "id": "00a6e5dc-9ac9-4a73-9bfe-e38f19966e3f",
   "metadata": {},
   "outputs": [],
   "source": [
    "#visualize salary distribution"
   ]
  },
  {
   "cell_type": "code",
   "execution_count": 150,
   "id": "073298d7-8c57-46ba-9db5-7d02cd251ad6",
   "metadata": {},
   "outputs": [],
   "source": [
    "#boxplt"
   ]
  },
  {
   "cell_type": "code",
   "execution_count": 151,
   "id": "277e3da2-f13f-4c24-ae6b-7010a2e5d738",
   "metadata": {},
   "outputs": [
    {
     "name": "stderr",
     "output_type": "stream",
     "text": [
      "C:\\Users\\DELL 4\\AppData\\Local\\Temp\\ipykernel_4648\\107366780.py:6: FutureWarning: \n",
      "\n",
      "Passing `palette` without assigning `hue` is deprecated and will be removed in v0.14.0. Assign the `x` variable to `hue` and set `legend=False` for the same effect.\n",
      "\n",
      "  sns.boxplot(x='Gender', y='Salary', data=df, palette='pastel')\n"
     ]
    },
    {
     "data": {
      "image/png": "[encoded data removed]",
      "text/plain": [
       "<Figure size 800x500 with 1 Axes>"
      ]
     },
     "metadata": {},
     "output_type": "display_data"
    }
   ],
   "source": [
    "# Set visual style\n",
    "sns.set(style=\"whitegrid\")\n",
    "\n",
    "# Boxplot\n",
    "plt.figure(figsize=(8, 5))\n",
    "sns.boxplot(x='Gender', y='Salary', data=df, palette='pastel')\n",
    "plt.title('Salary Distribution by Gender', fontsize=14)\n",
    "plt.xlabel('Gender')\n",
    "plt.ylabel('Salary')\n",
    "plt.show()"
   ]
  },
  {
   "cell_type": "code",
   "execution_count": 152,
   "id": "9b29c1ee-f002-4585-83bf-a93b88aeb152",
   "metadata": {},
   "outputs": [],
   "source": [
    "#Conclusion Template"
   ]
  },
  {
   "cell_type": "code",
   "execution_count": 153,
   "id": "a3229acb-3b1a-4fd1-91c1-e4cac8b49f63",
   "metadata": {},
   "outputs": [
    {
     "name": "stdout",
     "output_type": "stream",
     "text": [
      "⚠️ There appears to be a gender pay gap favoring males.\n"
     ]
    }
   ],
   "source": [
    "if avg_salary['Male'] > avg_salary['Female']:\n",
    "    print(\"⚠️ There appears to be a gender pay gap favoring males.\")\n",
    "elif avg_salary['Male'] < avg_salary['Female']:\n",
    "    print(\"⚠️ There appears to be a gender pay gap favoring females.\")\n",
    "else:\n",
    "    print(\"✅ No gender-based salary gap found in this dataset.\")"
   ]
  },
  {
   "cell_type": "code",
   "execution_count": 154,
   "id": "e5117271-f7ca-418d-8277-a14da1248cf1",
   "metadata": {},
   "outputs": [],
   "source": [
    "#df.to_csv(\"sample_employee_salary_data.csv\", index=False)\n"
   ]
  },
  {
   "cell_type": "code",
   "execution_count": 155,
   "id": "74c53bc3-33b1-43c2-879a-6106d8095c2e",
   "metadata": {},
   "outputs": [],
   "source": [
    "# confirm the bias is unfair "
   ]
  },
  {
   "cell_type": "markdown",
   "id": "819735a3-208a-4bd9-98e8-2d0575d4737b",
   "metadata": {},
   "source": [
    "Before fixing, make sure it’s not due to valid reasons (like experience, performance, etc.)"
   ]
  },
  {
   "cell_type": "code",
   "execution_count": 167,
   "id": "ed968a41-5e6e-421c-9795-80445eb1c169",
   "metadata": {},
   "outputs": [
    {
     "data": {
      "text/plain": [
       "Gender\n",
       "Female    4.2\n",
       "Male      4.2\n",
       "Name: Experience (Years), dtype: float64"
      ]
     },
     "execution_count": 167,
     "metadata": {},
     "output_type": "execute_result"
    }
   ],
   "source": [
    "#check if experience differs\n",
    "df.groupby('Gender')['Experience (Years)'].mean()"
   ]
  },
  {
   "cell_type": "code",
   "execution_count": 169,
   "id": "0a516fe2-fd8b-414b-955a-607fecbcfd47",
   "metadata": {},
   "outputs": [],
   "source": [
    "#remove Gender Influence in model training"
   ]
  },
  {
   "cell_type": "markdown",
   "id": "1055f37b-b26b-4188-adf9-7f25005f5b57",
   "metadata": {},
   "source": [
    "If you're training an ML model (e.g., to predict salary, recommend candidates, etc.):"
   ]
  },
  {
   "cell_type": "code",
   "execution_count": 172,
   "id": "775a93cb-9686-4774-a8f4-8a6670c45723",
   "metadata": {},
   "outputs": [],
   "source": [
    "x= df.drop([\"Salary\",\"Gender\"],axis=1)\n",
    "y=df['Salary']"
   ]
  },
  {
   "cell_type": "markdown",
   "id": "a7e7832d-12ea-418d-a97d-35c1e99e7d3f",
   "metadata": {},
   "source": [
    "This prevents the model from learning gender-based patterns."
   ]
  },
  {
   "cell_type": "code",
   "execution_count": 175,
   "id": "19f9fb4d-c62c-4ad2-ae85-1d9035f4e46f",
   "metadata": {},
   "outputs": [],
   "source": [
    "#normalize the salary data"
   ]
  },
  {
   "cell_type": "code",
   "execution_count": 177,
   "id": "11a39544-1624-480e-8800-73d7aeec9a58",
   "metadata": {},
   "outputs": [],
   "source": [
    "#equalize salaries for same job and experience \n",
    "df[\"Expected Salary\"]=df.groupby(['Job Role','Experience (Years)'])['Salary'].transform('mean')"
   ]
  },
  {
   "cell_type": "code",
   "execution_count": 179,
   "id": "b1812263-dbf2-452c-9ce5-66679a7cb3cb",
   "metadata": {},
   "outputs": [],
   "source": [
    "#Fix bias : set salary = expected salary\n",
    "\n",
    "df['Corrected Salary']=df['Expected Salary']"
   ]
  },
  {
   "cell_type": "code",
   "execution_count": 181,
   "id": "f9540141-7823-45a9-bf36-fe466b767ed3",
   "metadata": {},
   "outputs": [],
   "source": [
    "df['Bias Gap'] = df['Expected Salary'] - df['Salary']\n"
   ]
  },
  {
   "cell_type": "code",
   "execution_count": 183,
   "id": "04bcd880-30da-4edf-841e-68f9ac2fadb3",
   "metadata": {},
   "outputs": [
    {
     "data": {
      "text/plain": [
       "0    -2500.0\n",
       "1     2500.0\n",
       "2    -1500.0\n",
       "3     1500.0\n",
       "4    -5000.0\n",
       "5     5000.0\n",
       "6    -1000.0\n",
       "7     1000.0\n",
       "8    -2500.0\n",
       "9     2500.0\n",
       "10   -2500.0\n",
       "11    2500.0\n",
       "12    -500.0\n",
       "13     500.0\n",
       "14   -2000.0\n",
       "15    2000.0\n",
       "16   -1000.0\n",
       "17    1000.0\n",
       "18   -1000.0\n",
       "19    1000.0\n",
       "Name: Bias Gap, dtype: float64"
      ]
     },
     "execution_count": 183,
     "metadata": {},
     "output_type": "execute_result"
    }
   ],
   "source": [
    "df['Bias Gap']"
   ]
  },
  {
   "cell_type": "code",
   "execution_count": 185,
   "id": "635919c7-2bd4-49a1-9c74-7bd5572d2a6c",
   "metadata": {},
   "outputs": [
    {
     "data": {
      "text/plain": [
       "0      67500.0\n",
       "1      67500.0\n",
       "2      48500.0\n",
       "3      48500.0\n",
       "4     115000.0\n",
       "5     115000.0\n",
       "6      59000.0\n",
       "7      59000.0\n",
       "8     127500.0\n",
       "9     127500.0\n",
       "10     92500.0\n",
       "11     92500.0\n",
       "12     39500.0\n",
       "13     39500.0\n",
       "14     98000.0\n",
       "15     98000.0\n",
       "16     51000.0\n",
       "17     51000.0\n",
       "18     40000.0\n",
       "19     40000.0\n",
       "Name: Corrected Salary, dtype: float64"
      ]
     },
     "execution_count": 185,
     "metadata": {},
     "output_type": "execute_result"
    }
   ],
   "source": [
    "df['Corrected Salary']"
   ]
  },
  {
   "cell_type": "code",
   "execution_count": 187,
   "id": "6690d358-95ee-4a64-8f6d-17b7d785267d",
   "metadata": {},
   "outputs": [
    {
     "data": {
      "text/plain": [
       "0      67500.0\n",
       "1      67500.0\n",
       "2      48500.0\n",
       "3      48500.0\n",
       "4     115000.0\n",
       "5     115000.0\n",
       "6      59000.0\n",
       "7      59000.0\n",
       "8     127500.0\n",
       "9     127500.0\n",
       "10     92500.0\n",
       "11     92500.0\n",
       "12     39500.0\n",
       "13     39500.0\n",
       "14     98000.0\n",
       "15     98000.0\n",
       "16     51000.0\n",
       "17     51000.0\n",
       "18     40000.0\n",
       "19     40000.0\n",
       "Name: Expected Salary, dtype: float64"
      ]
     },
     "execution_count": 187,
     "metadata": {},
     "output_type": "execute_result"
    }
   ],
   "source": [
    "df['Expected Salary']"
   ]
  },
  {
   "cell_type": "code",
   "execution_count": 189,
   "id": "4f40f5f5-1f61-4e80-a6bc-0e92cea4b9f7",
   "metadata": {},
   "outputs": [],
   "source": [
    "#create a fair salary suggestion system "
   ]
  },
  {
   "cell_type": "markdown",
   "id": "a0ca6860-5449-466b-a7e8-b3d6e8fc2b0f",
   "metadata": {},
   "source": [
    "Train a model only on valid features:"
   ]
  },
  {
   "cell_type": "code",
   "execution_count": 192,
   "id": "6ac73099-955b-4f9f-ab89-45afca88f5e3",
   "metadata": {},
   "outputs": [],
   "source": [
    "valid_features = ['Experience (Years)', 'Job Role', 'Education Level']\n",
    "X = df[valid_features]\n",
    "y = df['Salary']"
   ]
  },
  {
   "cell_type": "code",
   "execution_count": 196,
   "id": "486141ca-dcd3-4921-9753-741e89399965",
   "metadata": {},
   "outputs": [
    {
     "data": {
      "text/html": [
       "<div>\n",
       "<style scoped>\n",
       "    .dataframe tbody tr th:only-of-type {\n",
       "        vertical-align: middle;\n",
       "    }\n",
       "\n",
       "    .dataframe tbody tr th {\n",
       "        vertical-align: top;\n",
       "    }\n",
       "\n",
       "    .dataframe thead th {\n",
       "        text-align: right;\n",
       "    }\n",
       "</style>\n",
       "<table border=\"1\" class=\"dataframe\">\n",
       "  <thead>\n",
       "    <tr style=\"text-align: right;\">\n",
       "      <th></th>\n",
       "      <th>Name</th>\n",
       "      <th>Gender</th>\n",
       "      <th>Job Role</th>\n",
       "      <th>Experience (Years)</th>\n",
       "      <th>Education Level</th>\n",
       "      <th>Salary</th>\n",
       "      <th>Expected Salary</th>\n",
       "      <th>Corrected Salary</th>\n",
       "      <th>Bias Gap</th>\n",
       "    </tr>\n",
       "  </thead>\n",
       "  <tbody>\n",
       "    <tr>\n",
       "      <th>0</th>\n",
       "      <td>John</td>\n",
       "      <td>Male</td>\n",
       "      <td>Engineer</td>\n",
       "      <td>3</td>\n",
       "      <td>Bachelor</td>\n",
       "      <td>70000</td>\n",
       "      <td>67500.0</td>\n",
       "      <td>67500.0</td>\n",
       "      <td>-2500.0</td>\n",
       "    </tr>\n",
       "    <tr>\n",
       "      <th>1</th>\n",
       "      <td>Alice</td>\n",
       "      <td>Female</td>\n",
       "      <td>Engineer</td>\n",
       "      <td>3</td>\n",
       "      <td>Bachelor</td>\n",
       "      <td>65000</td>\n",
       "      <td>67500.0</td>\n",
       "      <td>67500.0</td>\n",
       "      <td>2500.0</td>\n",
       "    </tr>\n",
       "    <tr>\n",
       "      <th>2</th>\n",
       "      <td>Robert</td>\n",
       "      <td>Male</td>\n",
       "      <td>Analyst</td>\n",
       "      <td>2</td>\n",
       "      <td>Bachelor</td>\n",
       "      <td>50000</td>\n",
       "      <td>48500.0</td>\n",
       "      <td>48500.0</td>\n",
       "      <td>-1500.0</td>\n",
       "    </tr>\n",
       "    <tr>\n",
       "      <th>3</th>\n",
       "      <td>Mary</td>\n",
       "      <td>Female</td>\n",
       "      <td>Analyst</td>\n",
       "      <td>2</td>\n",
       "      <td>Bachelor</td>\n",
       "      <td>47000</td>\n",
       "      <td>48500.0</td>\n",
       "      <td>48500.0</td>\n",
       "      <td>1500.0</td>\n",
       "    </tr>\n",
       "    <tr>\n",
       "      <th>4</th>\n",
       "      <td>David</td>\n",
       "      <td>Male</td>\n",
       "      <td>Manager</td>\n",
       "      <td>8</td>\n",
       "      <td>Bachelor</td>\n",
       "      <td>120000</td>\n",
       "      <td>115000.0</td>\n",
       "      <td>115000.0</td>\n",
       "      <td>-5000.0</td>\n",
       "    </tr>\n",
       "    <tr>\n",
       "      <th>5</th>\n",
       "      <td>Emma</td>\n",
       "      <td>Female</td>\n",
       "      <td>Manager</td>\n",
       "      <td>8</td>\n",
       "      <td>Bachelor</td>\n",
       "      <td>110000</td>\n",
       "      <td>115000.0</td>\n",
       "      <td>115000.0</td>\n",
       "      <td>5000.0</td>\n",
       "    </tr>\n",
       "    <tr>\n",
       "      <th>6</th>\n",
       "      <td>James</td>\n",
       "      <td>Male</td>\n",
       "      <td>HR</td>\n",
       "      <td>4</td>\n",
       "      <td>Bachelor</td>\n",
       "      <td>60000</td>\n",
       "      <td>59000.0</td>\n",
       "      <td>59000.0</td>\n",
       "      <td>-1000.0</td>\n",
       "    </tr>\n",
       "    <tr>\n",
       "      <th>7</th>\n",
       "      <td>Olivia</td>\n",
       "      <td>Female</td>\n",
       "      <td>HR</td>\n",
       "      <td>4</td>\n",
       "      <td>Bachelor</td>\n",
       "      <td>58000</td>\n",
       "      <td>59000.0</td>\n",
       "      <td>59000.0</td>\n",
       "      <td>1000.0</td>\n",
       "    </tr>\n",
       "    <tr>\n",
       "      <th>8</th>\n",
       "      <td>Daniel</td>\n",
       "      <td>Male</td>\n",
       "      <td>Tech Lead</td>\n",
       "      <td>10</td>\n",
       "      <td>Bachelor</td>\n",
       "      <td>130000</td>\n",
       "      <td>127500.0</td>\n",
       "      <td>127500.0</td>\n",
       "      <td>-2500.0</td>\n",
       "    </tr>\n",
       "    <tr>\n",
       "      <th>9</th>\n",
       "      <td>Sophia</td>\n",
       "      <td>Female</td>\n",
       "      <td>Tech Lead</td>\n",
       "      <td>10</td>\n",
       "      <td>Bachelor</td>\n",
       "      <td>125000</td>\n",
       "      <td>127500.0</td>\n",
       "      <td>127500.0</td>\n",
       "      <td>2500.0</td>\n",
       "    </tr>\n",
       "    <tr>\n",
       "      <th>10</th>\n",
       "      <td>Chris</td>\n",
       "      <td>Male</td>\n",
       "      <td>Data Scientist</td>\n",
       "      <td>5</td>\n",
       "      <td>Bachelor</td>\n",
       "      <td>95000</td>\n",
       "      <td>92500.0</td>\n",
       "      <td>92500.0</td>\n",
       "      <td>-2500.0</td>\n",
       "    </tr>\n",
       "    <tr>\n",
       "      <th>11</th>\n",
       "      <td>Ava</td>\n",
       "      <td>Female</td>\n",
       "      <td>Data Scientist</td>\n",
       "      <td>5</td>\n",
       "      <td>Bachelor</td>\n",
       "      <td>90000</td>\n",
       "      <td>92500.0</td>\n",
       "      <td>92500.0</td>\n",
       "      <td>2500.0</td>\n",
       "    </tr>\n",
       "    <tr>\n",
       "      <th>12</th>\n",
       "      <td>Mike</td>\n",
       "      <td>Male</td>\n",
       "      <td>Support</td>\n",
       "      <td>1</td>\n",
       "      <td>Bachelor</td>\n",
       "      <td>40000</td>\n",
       "      <td>39500.0</td>\n",
       "      <td>39500.0</td>\n",
       "      <td>-500.0</td>\n",
       "    </tr>\n",
       "    <tr>\n",
       "      <th>13</th>\n",
       "      <td>Isabella</td>\n",
       "      <td>Female</td>\n",
       "      <td>Support</td>\n",
       "      <td>1</td>\n",
       "      <td>Bachelor</td>\n",
       "      <td>39000</td>\n",
       "      <td>39500.0</td>\n",
       "      <td>39500.0</td>\n",
       "      <td>500.0</td>\n",
       "    </tr>\n",
       "    <tr>\n",
       "      <th>14</th>\n",
       "      <td>Tom</td>\n",
       "      <td>Male</td>\n",
       "      <td>Consultant</td>\n",
       "      <td>6</td>\n",
       "      <td>Bachelor</td>\n",
       "      <td>100000</td>\n",
       "      <td>98000.0</td>\n",
       "      <td>98000.0</td>\n",
       "      <td>-2000.0</td>\n",
       "    </tr>\n",
       "    <tr>\n",
       "      <th>15</th>\n",
       "      <td>Mia</td>\n",
       "      <td>Female</td>\n",
       "      <td>Consultant</td>\n",
       "      <td>6</td>\n",
       "      <td>Bachelor</td>\n",
       "      <td>96000</td>\n",
       "      <td>98000.0</td>\n",
       "      <td>98000.0</td>\n",
       "      <td>2000.0</td>\n",
       "    </tr>\n",
       "    <tr>\n",
       "      <th>16</th>\n",
       "      <td>Jack</td>\n",
       "      <td>Male</td>\n",
       "      <td>QA</td>\n",
       "      <td>2</td>\n",
       "      <td>Bachelor</td>\n",
       "      <td>52000</td>\n",
       "      <td>51000.0</td>\n",
       "      <td>51000.0</td>\n",
       "      <td>-1000.0</td>\n",
       "    </tr>\n",
       "    <tr>\n",
       "      <th>17</th>\n",
       "      <td>Lily</td>\n",
       "      <td>Female</td>\n",
       "      <td>QA</td>\n",
       "      <td>2</td>\n",
       "      <td>Bachelor</td>\n",
       "      <td>50000</td>\n",
       "      <td>51000.0</td>\n",
       "      <td>51000.0</td>\n",
       "      <td>1000.0</td>\n",
       "    </tr>\n",
       "    <tr>\n",
       "      <th>18</th>\n",
       "      <td>Ryan</td>\n",
       "      <td>Male</td>\n",
       "      <td>Admin</td>\n",
       "      <td>1</td>\n",
       "      <td>Bachelor</td>\n",
       "      <td>41000</td>\n",
       "      <td>40000.0</td>\n",
       "      <td>40000.0</td>\n",
       "      <td>-1000.0</td>\n",
       "    </tr>\n",
       "    <tr>\n",
       "      <th>19</th>\n",
       "      <td>Emily</td>\n",
       "      <td>Female</td>\n",
       "      <td>Admin</td>\n",
       "      <td>1</td>\n",
       "      <td>Bachelor</td>\n",
       "      <td>39000</td>\n",
       "      <td>40000.0</td>\n",
       "      <td>40000.0</td>\n",
       "      <td>1000.0</td>\n",
       "    </tr>\n",
       "  </tbody>\n",
       "</table>\n",
       "</div>"
      ],
      "text/plain": [
       "        Name  Gender        Job Role  Experience (Years) Education Level  \\\n",
       "0       John    Male        Engineer                   3        Bachelor   \n",
       "1      Alice  Female        Engineer                   3        Bachelor   \n",
       "2     Robert    Male         Analyst                   2        Bachelor   \n",
       "3       Mary  Female         Analyst                   2        Bachelor   \n",
       "4      David    Male         Manager                   8        Bachelor   \n",
       "5       Emma  Female         Manager                   8        Bachelor   \n",
       "6      James    Male              HR                   4        Bachelor   \n",
       "7     Olivia  Female              HR                   4        Bachelor   \n",
       "8     Daniel    Male       Tech Lead                  10        Bachelor   \n",
       "9     Sophia  Female       Tech Lead                  10        Bachelor   \n",
       "10     Chris    Male  Data Scientist                   5        Bachelor   \n",
       "11       Ava  Female  Data Scientist                   5        Bachelor   \n",
       "12      Mike    Male         Support                   1        Bachelor   \n",
       "13  Isabella  Female         Support                   1        Bachelor   \n",
       "14       Tom    Male      Consultant                   6        Bachelor   \n",
       "15       Mia  Female      Consultant                   6        Bachelor   \n",
       "16      Jack    Male              QA                   2        Bachelor   \n",
       "17      Lily  Female              QA                   2        Bachelor   \n",
       "18      Ryan    Male           Admin                   1        Bachelor   \n",
       "19     Emily  Female           Admin                   1        Bachelor   \n",
       "\n",
       "    Salary  Expected Salary  Corrected Salary  Bias Gap  \n",
       "0    70000          67500.0           67500.0   -2500.0  \n",
       "1    65000          67500.0           67500.0    2500.0  \n",
       "2    50000          48500.0           48500.0   -1500.0  \n",
       "3    47000          48500.0           48500.0    1500.0  \n",
       "4   120000         115000.0          115000.0   -5000.0  \n",
       "5   110000         115000.0          115000.0    5000.0  \n",
       "6    60000          59000.0           59000.0   -1000.0  \n",
       "7    58000          59000.0           59000.0    1000.0  \n",
       "8   130000         127500.0          127500.0   -2500.0  \n",
       "9   125000         127500.0          127500.0    2500.0  \n",
       "10   95000          92500.0           92500.0   -2500.0  \n",
       "11   90000          92500.0           92500.0    2500.0  \n",
       "12   40000          39500.0           39500.0    -500.0  \n",
       "13   39000          39500.0           39500.0     500.0  \n",
       "14  100000          98000.0           98000.0   -2000.0  \n",
       "15   96000          98000.0           98000.0    2000.0  \n",
       "16   52000          51000.0           51000.0   -1000.0  \n",
       "17   50000          51000.0           51000.0    1000.0  \n",
       "18   41000          40000.0           40000.0   -1000.0  \n",
       "19   39000          40000.0           40000.0    1000.0  "
      ]
     },
     "execution_count": 196,
     "metadata": {},
     "output_type": "execute_result"
    }
   ],
   "source": [
    "df"
   ]
  },
  {
   "cell_type": "code",
   "execution_count": 202,
   "id": "af7b54b7-6a7e-419b-a6a8-caacf49f16cd",
   "metadata": {},
   "outputs": [
    {
     "name": "stdout",
     "output_type": "stream",
     "text": [
      "Mean Squared Error: 30804928.483979836\n"
     ]
    },
    {
     "name": "stderr",
     "output_type": "stream",
     "text": [
      "C:\\Users\\DELL 4\\anaconda3\\Lib\\site-packages\\sklearn\\preprocessing\\_encoders.py:241: UserWarning: Found unknown categories in columns [0] during transform. These unknown categories will be encoded as all zeros\n",
      "  warnings.warn(\n"
     ]
    }
   ],
   "source": [
    "from sklearn.preprocessing import OneHotEncoder\n",
    "from sklearn.compose import ColumnTransformer\n",
    "from sklearn.pipeline import Pipeline\n",
    "from sklearn.linear_model import LinearRegression\n",
    "from sklearn.model_selection import train_test_split\n",
    "from sklearn.metrics import mean_squared_error\n",
    "import pandas as pd\n",
    "\n",
    "# Load your dataset\n",
    "valid_features = ['Experience (Years)', 'Job Role', 'Education Level']\n",
    "X = df[valid_features]\n",
    "y = df['Salary']\n",
    "\n",
    "# Categorical and numerical columns\n",
    "categorical_features = ['Job Role', 'Education Level']\n",
    "\n",
    "# Define column transformer with safe encoding\n",
    "preprocessor = ColumnTransformer(\n",
    "    transformers=[\n",
    "        ('cat', OneHotEncoder(drop='first', handle_unknown='ignore'), categorical_features)\n",
    "    ],\n",
    "    remainder='passthrough'\n",
    ")\n",
    "\n",
    "# Build pipeline\n",
    "pipeline = Pipeline(steps=[\n",
    "    ('preprocessor', preprocessor),\n",
    "    ('model', LinearRegression())\n",
    "])\n",
    "\n",
    "# Train/test split\n",
    "X_train, X_test, y_train, y_test = train_test_split(X, y, test_size=0.2, random_state=42)\n",
    "\n",
    "# Fit model\n",
    "pipeline.fit(X_train, y_train)\n",
    "\n",
    "# Evaluate\n",
    "y_pred = pipeline.predict(X_test)\n",
    "mse = mean_squared_error(y_test, y_pred)\n",
    "print(\"Mean Squared Error:\", mse)\n",
    "\n"
   ]
  },
  {
   "cell_type": "code",
   "execution_count": 204,
   "id": "4f77cd33-738f-46dd-9313-507b89f79676",
   "metadata": {},
   "outputs": [
    {
     "name": "stdout",
     "output_type": "stream",
     "text": [
      "Predicted Salary: 81530.05464480874\n"
     ]
    },
    {
     "name": "stderr",
     "output_type": "stream",
     "text": [
      "C:\\Users\\DELL 4\\anaconda3\\Lib\\site-packages\\sklearn\\preprocessing\\_encoders.py:241: UserWarning: Found unknown categories in columns [0] during transform. These unknown categories will be encoded as all zeros\n",
      "  warnings.warn(\n"
     ]
    }
   ],
   "source": [
    "# Sample prediction (now works safely)\n",
    "sample = pd.DataFrame({\n",
    "    'Experience (Years)': [5],\n",
    "    'Job Role': ['Engineer'],\n",
    "    'Education Level': ['Bachelor']\n",
    "})\n",
    "predicted_salary = pipeline.predict(sample)\n",
    "print(\"Predicted Salary:\", predicted_salary[0])\n"
   ]
  },
  {
   "cell_type": "code",
   "execution_count": 206,
   "id": "fa6eb90b-2e1e-4ef0-bc78-6b7a4d7e1931",
   "metadata": {},
   "outputs": [
    {
     "name": "stderr",
     "output_type": "stream",
     "text": [
      "C:\\Users\\DELL 4\\anaconda3\\Lib\\site-packages\\sklearn\\preprocessing\\_encoders.py:241: UserWarning: Found unknown categories in columns [0] during transform. These unknown categories will be encoded as all zeros\n",
      "  warnings.warn(\n"
     ]
    },
    {
     "data": {
      "image/png": "[encoded data removed]",
      "text/plain": [
       "<Figure size 800x600 with 1 Axes>"
      ]
     },
     "metadata": {},
     "output_type": "display_data"
    },
    {
     "data": {
      "image/png": "[encoded data removed]",
      "text/plain": [
       "<Figure size 800x600 with 1 Axes>"
      ]
     },
     "metadata": {},
     "output_type": "display_data"
    },
    {
     "name": "stderr",
     "output_type": "stream",
     "text": [
      "C:\\Users\\DELL 4\\anaconda3\\Lib\\site-packages\\sklearn\\preprocessing\\_encoders.py:241: UserWarning: Found unknown categories in columns [0] during transform. These unknown categories will be encoded as all zeros\n",
      "  warnings.warn(\n"
     ]
    },
    {
     "data": {
      "image/png": "[encoded data removed]",
      "text/plain": [
       "<Figure size 800x600 with 1 Axes>"
      ]
     },
     "metadata": {},
     "output_type": "display_data"
    }
   ],
   "source": [
    "import matplotlib.pyplot as plt\n",
    "import seaborn as sns\n",
    "\n",
    "# Predict on test data\n",
    "y_pred = pipeline.predict(X_test)\n",
    "\n",
    "# 1. Actual vs Predicted Salary\n",
    "plt.figure(figsize=(8, 6))\n",
    "sns.scatterplot(x=y_test, y=y_pred)\n",
    "plt.plot([y_test.min(), y_test.max()], [y_test.min(), y_test.max()], '--r')  # Reference line\n",
    "plt.xlabel('Actual Salary')\n",
    "plt.ylabel('Predicted Salary')\n",
    "plt.title('Actual vs Predicted Salary')\n",
    "plt.grid(True)\n",
    "plt.show()\n",
    "\n",
    "# 2. Residuals Plot\n",
    "residuals = y_test - y_pred\n",
    "plt.figure(figsize=(8, 6))\n",
    "sns.histplot(residuals, kde=True, color='purple')\n",
    "plt.axvline(0, color='red', linestyle='--')\n",
    "plt.title('Residuals Distribution')\n",
    "plt.xlabel('Residuals (Actual - Predicted)')\n",
    "plt.ylabel('Frequency')\n",
    "plt.grid(True)\n",
    "plt.show()\n",
    "\n",
    "# 3. Bias Gap (Optional - full data)\n",
    "df['Predicted Salary'] = pipeline.predict(X)\n",
    "df['Bias Gap'] = df['Predicted Salary'] - df['Salary']\n",
    "\n",
    "plt.figure(figsize=(8, 6))\n",
    "sns.barplot(data=df, x='Name', y='Bias Gap', hue='Gender')\n",
    "plt.xticks(rotation=90)\n",
    "plt.title('Bias Gap by Employee')\n",
    "plt.ylabel('Bias Gap (Predicted - Actual Salary)')\n",
    "plt.grid(True)\n",
    "plt.show()\n"
   ]
  },
  {
   "cell_type": "markdown",
   "id": "ac0d8ea2-5400-42bc-bdb8-3142d0ab67f2",
   "metadata": {},
   "source": [
    "Interpretation:\n",
    "\n",
    "- Scatter plot: The closer the dots are to the red diagonal line, the better your model's predictions are.\n",
    "\n",
    "- Residuals plot: Ideally should be centered around 0. If it's skewed, the model has a bias.\n",
    "\n",
    "- Bias Gap bar plot: Highlights gender bias if one group consistently has larger gaps than another."
   ]
  }
 ],
 "metadata": {
  "kernelspec": {
   "display_name": "Python 3 (ipykernel)",
   "language": "python",
   "name": "python3"
  },
  "language_info": {
   "codemirror_mode": {
    "name": "ipython",
    "version": 3
   },
   "file_extension": ".py",
   "mimetype": "text/x-python",
   "name": "python",
   "nbconvert_exporter": "python",
   "pygments_lexer": "ipython3",
   "version": "3.12.4"
  }
 },
 "nbformat": 4,
 "nbformat_minor": 5
}
