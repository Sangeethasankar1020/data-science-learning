{
 "cells": [
  {
   "cell_type": "markdown",
   "id": "a0a3bffb-ea46-401c-a32d-3b74fd0b15cf",
   "metadata": {},
   "source": [
    "# K-Fold Cross -Validation"
   ]
  },
  {
   "cell_type": "markdown",
   "id": "52c17fea-aeaf-479d-abd3-b6d418eaebf1",
   "metadata": {},
   "source": [
    "### Why use K-Fold?"
   ]
  },
  {
   "cell_type": "markdown",
   "id": "682f974f-69f0-410a-8dbf-6c441fefe617",
   "metadata": {},
   "source": [
    "Training models on a single train-test split can lead to overfitting or underfitting. K-Fold Cross-Validation ensures stable performance evaluation by dividing data into multiple folds."
   ]
  },
  {
   "cell_type": "markdown",
   "id": "f3de9dca-cd6e-475a-bd1c-f41568b73aae",
   "metadata": {},
   "source": [
    "### How it works?"
   ]
  },
  {
   "cell_type": "markdown",
   "id": "b9f318ff-fd21-414f-b4ee-4c3fd27f8540",
   "metadata": {},
   "source": [
    "- Splits data into K parts (e.g., K=5).\n",
    "\n",
    "- Trains model on K-1 folds and tests on the remaining fold.\n",
    "\n",
    "- Repeats K times and averages results."
   ]
  },
  {
   "cell_type": "markdown",
   "id": "ade48a1f-de8b-4878-b840-63e41cc69b03",
   "metadata": {},
   "source": [
    "### Example Dataset - Wine Quality Prediction "
   ]
  },
  {
   "cell_type": "markdown",
   "id": "5de2e69b-c1af-4a1b-b5d6-b25ce4dc5622",
   "metadata": {},
   "source": [
    "Model : Decision Tree Regressor"
   ]
  },
  {
   "cell_type": "code",
   "execution_count": 33,
   "id": "94226d1e-7685-44ea-85ce-bb0b9a4631c1",
   "metadata": {},
   "outputs": [
    {
     "name": "stdout",
     "output_type": "stream",
     "text": [
      "R² Scores per fold: [-1.09821429 -0.77272727 -2.         -1.14559387 -1.1192053 ]\n",
      "Mean R² Score: -1.227148145237321\n"
     ]
    }
   ],
   "source": [
    "import pandas as pd\n",
    "from sklearn.model_selection import cross_val_score\n",
    "from sklearn.tree import DecisionTreeRegressor\n",
    "\n",
    "# Load Dataset\n",
    "data = pd.read_csv('winequality-red.csv')\n",
    "X = data.drop(columns=['quality'])\n",
    "y = data['quality']\n",
    "\n",
    "# K-Fold Cross-Validation\n",
    "model = DecisionTreeRegressor()\n",
    "scores = cross_val_score(model, X, y, cv=5, scoring='r2')\n",
    "\n",
    "print(\"R² Scores per fold:\", scores)\n",
    "print(\"Mean R² Score:\", scores.mean())\n"
   ]
  },
  {
   "cell_type": "code",
   "execution_count": null,
   "id": "8742d162-2df7-4a7c-bf07-a1bfb6a0e693",
   "metadata": {},
   "outputs": [],
   "source": []
  },
  {
   "cell_type": "code",
   "execution_count": null,
   "id": "af63d4bc-7746-4a1a-893f-fe52a3ed64a4",
   "metadata": {},
   "outputs": [],
   "source": []
  },
  {
   "cell_type": "code",
   "execution_count": null,
   "id": "1b893182-cde4-411f-8652-913a8c7a5f5b",
   "metadata": {},
   "outputs": [],
   "source": []
  }
 ],
 "metadata": {
  "kernelspec": {
   "display_name": "Python 3 (ipykernel)",
   "language": "python",
   "name": "python3"
  },
  "language_info": {
   "codemirror_mode": {
    "name": "ipython",
    "version": 3
   },
   "file_extension": ".py",
   "mimetype": "text/x-python",
   "name": "python",
   "nbconvert_exporter": "python",
   "pygments_lexer": "ipython3",
   "version": "3.12.4"
  }
 },
 "nbformat": 4,
 "nbformat_minor": 5
}
