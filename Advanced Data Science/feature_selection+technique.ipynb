{
 "cells": [
  {
   "cell_type": "markdown",
   "id": "a1ce43e5-bfd5-4362-a1ad-ac763fe81fa6",
   "metadata": {},
   "source": [
    "# Feature Selection Techniques"
   ]
  },
  {
   "cell_type": "markdown",
   "id": "7b0e3286-1ba0-4280-932a-4f1f488b4c08",
   "metadata": {},
   "source": [
    "### Why use feature selection?"
   ]
  },
  {
   "cell_type": "markdown",
   "id": "c3969394-43a5-4565-a0ef-48f7f2cb490e",
   "metadata": {},
   "source": [
    "Not all features contribute equally to predictions. Removing irrelevant features improves accuracy, reduces overfitting, and speeds up training."
   ]
  },
  {
   "cell_type": "markdown",
   "id": "37b34b9c-ad5d-4876-bce3-c21153752621",
   "metadata": {},
   "source": [
    "Feature selection is an important step in machine learning to improve model performance by selecting only the most relevant features. It helps in:\n",
    "- Reducing overfitting\n",
    "- Improving accuracy\n",
    "- Reducing training time"
   ]
  },
  {
   "cell_type": "markdown",
   "id": "c2021cdb-9de1-4bfe-9a35-94683b25f389",
   "metadata": {},
   "source": [
    "### Filter Methods (Using Statistical Tests) "
   ]
  },
  {
   "cell_type": "markdown",
   "id": "74df97a9-662b-4c51-9be3-7965d7e21a59",
   "metadata": {},
   "source": [
    "These methods select features based on statistical scores between independent and dependent variables."
   ]
  },
  {
   "cell_type": "markdown",
   "id": "babc35c8-df9c-4523-b36f-851585773c1f",
   "metadata": {},
   "source": [
    "Using SelectKBest (Chi-Square Test)"
   ]
  },
  {
   "cell_type": "code",
   "execution_count": 31,
   "id": "24a6fece-f7c4-4104-9b63-90b90aa21222",
   "metadata": {},
   "outputs": [
    {
     "name": "stdout",
     "output_type": "stream",
     "text": [
      "Selected Features: Index(['transaction_amount', 'transaction_time', 'card_present',\n",
      "       'merchant_category'],\n",
      "      dtype='object')\n"
     ]
    },
    {
     "name": "stderr",
     "output_type": "stream",
     "text": [
      "C:\\Users\\DELL 4\\anaconda3\\Lib\\site-packages\\sklearn\\feature_selection\\_univariate_selection.py:776: UserWarning: k=5 is greater than n_features=4. All the features will be returned.\n",
      "  warnings.warn(\n"
     ]
    }
   ],
   "source": [
    "from sklearn.feature_selection import SelectKBest, chi2\n",
    "import pandas as pd\n",
    "\n",
    "# Load dataset\n",
    "data = pd.read_csv(\"fraud.csv\")  # Example dataset\n",
    "X = data.drop(columns=[\"Class\"])  # Features\n",
    "y = data[\"Class\"]  # Target\n",
    "\n",
    "# Apply Chi-Square test to select top 5 features\n",
    "selector = SelectKBest(score_func=chi2, k=5)\n",
    "X_new = selector.fit_transform(X, y)\n",
    "\n",
    "# Get selected feature names\n",
    "selected_features = X.columns[selector.get_support()]\n",
    "print(\"Selected Features:\", selected_features)\n"
   ]
  },
  {
   "cell_type": "markdown",
   "id": "cd19bb77-3d8d-486e-a91f-d620cc93ed31",
   "metadata": {},
   "source": [
    "**📌 When to use?**\n",
    "\n",
    "- When the dataset has categorical target variables.\n",
    "\n",
    "- When you want to filter out weakly related features.\n",
    "\n",
    "**📌 Real-time Use Case:**\n",
    "\n",
    "- Fraud detection: Finding the top features that contribute to fraudulent transactions."
   ]
  },
  {
   "cell_type": "markdown",
   "id": "b6ec510d-4df7-49f9-9eab-816885334c7c",
   "metadata": {},
   "source": [
    "### Wrapper Methods (Using Recursive Feature Elimination - RFE)"
   ]
  },
  {
   "cell_type": "markdown",
   "id": "95cc4f25-5682-4fbe-8a49-1ee36ecf353a",
   "metadata": {},
   "source": [
    "Wrapper methods train the model multiple times to find the best subset of features."
   ]
  },
  {
   "cell_type": "markdown",
   "id": "b779ef7c-991b-4370-88f5-13f7e503740d",
   "metadata": {},
   "source": [
    "Using RFE (Recursive Feature Elimination)"
   ]
  },
  {
   "cell_type": "code",
   "execution_count": 44,
   "id": "8321fbd7-5aa3-4db2-8ae9-db5eabd8b541",
   "metadata": {},
   "outputs": [
    {
     "name": "stdout",
     "output_type": "stream",
     "text": [
      "Selected Features: Index(['transaction_amount', 'transaction_time', 'card_present',\n",
      "       'merchant_category'],\n",
      "      dtype='object')\n"
     ]
    }
   ],
   "source": [
    "from sklearn.feature_selection import RFE\n",
    "from sklearn.ensemble import RandomForestClassifier\n",
    "\n",
    "# Initialize the model\n",
    "model = RandomForestClassifier()\n",
    "\n",
    "# Apply RFE for feature selection\n",
    "rfe = RFE(model, n_features_to_select=5)\n",
    "X_new = rfe.fit_transform(X, y)\n",
    "\n",
    "# Get selected feature names\n",
    "selected_features = X.columns[rfe.support_]\n",
    "print(\"Selected Features:\", selected_features)\n"
   ]
  },
  {
   "cell_type": "markdown",
   "id": "6d094781-e9a1-467b-9b29-010fd2c1c419",
   "metadata": {},
   "source": [
    "**📌 When to use?**\n",
    "\n",
    "- When you have a small dataset.\n",
    "\n",
    "- When you want to evaluate the best feature subset dynamically.\n",
    "\n",
    "**📌 Real-time Use Case:**\n",
    "\n",
    "- In loan default prediction, selecting the best features that indicate whether a person will default or not.\n",
    "\n"
   ]
  },
  {
   "cell_type": "markdown",
   "id": "7b6a1958-4605-4c1c-b0ab-4195cf015e98",
   "metadata": {},
   "source": [
    "###  Embedded Methods (Using Lasso Regression - L1 Regularization)"
   ]
  },
  {
   "cell_type": "markdown",
   "id": "049a4982-4652-433f-8ea2-f8bcbc1da315",
   "metadata": {},
   "source": [
    "Embedded methods use machine learning models that have built-in feature selection."
   ]
  },
  {
   "cell_type": "markdown",
   "id": "b65d6cad-bb2d-45ae-a581-f019a66e4716",
   "metadata": {},
   "source": [
    "Using Lasso Regression (L1 Regularization)"
   ]
  },
  {
   "cell_type": "code",
   "execution_count": 55,
   "id": "b8308914-a3bc-4624-adaf-f3c27cb98050",
   "metadata": {},
   "outputs": [
    {
     "name": "stdout",
     "output_type": "stream",
     "text": [
      "Selected Features: Index(['transaction_amount', 'transaction_time', 'merchant_category'], dtype='object')\n"
     ]
    },
    {
     "name": "stderr",
     "output_type": "stream",
     "text": [
      "C:\\Users\\DELL 4\\anaconda3\\Lib\\site-packages\\sklearn\\base.py:486: UserWarning: X has feature names, but SelectFromModel was fitted without feature names\n",
      "  warnings.warn(\n"
     ]
    }
   ],
   "source": [
    "from sklearn.linear_model import Lasso\n",
    "from sklearn.feature_selection import SelectFromModel\n",
    "\n",
    "# Train Lasso model\n",
    "lasso = Lasso(alpha=0.01)  # Small alpha to avoid removing too many features\n",
    "lasso.fit(X, y)\n",
    "\n",
    "# Apply feature selection\n",
    "selector = SelectFromModel(lasso, prefit=True)\n",
    "X_new = selector.transform(X)\n",
    "\n",
    "# Get selected feature names\n",
    "selected_features = X.columns[selector.get_support()]\n",
    "print(\"Selected Features:\", selected_features)"
   ]
  },
  {
   "cell_type": "markdown",
   "id": "7257a072-65a3-4331-bc3c-a28e6f6e5f42",
   "metadata": {},
   "source": [
    "**📌 When to use?**\n",
    "\n",
    "- When you have a large dataset with many irrelevant features.\n",
    "\n",
    "- When you want an automatic way to remove weak features.\n",
    "\n",
    "**📌 Real-time Use Case:**\n",
    "\n",
    "- In stock price prediction, removing weak features that don’t contribute to stock price movement."
   ]
  },
  {
   "cell_type": "markdown",
   "id": "5e67b8ab-0543-43d7-9168-84fd79797521",
   "metadata": {},
   "source": [
    "** Which Feature Selection Method Should You Use?** \n",
    "- **Method**\tBest For\tExample Use Case\n",
    "- **Filter (SelectKBest)**\tLarge datasets, categorical targets\tFraud detection\n",
    "- **Wrapper (RFE)**\tSmall datasets, best subset search\tLoan default prediction\n",
    "- **Embedded (Lasso)**\tHigh-dimensional data, automatic selection\tStock price prediction\n"
   ]
  },
  {
   "cell_type": "code",
   "execution_count": null,
   "id": "a8ef15b0-8d15-4e9d-9da5-b6bf06463292",
   "metadata": {},
   "outputs": [],
   "source": []
  },
  {
   "cell_type": "code",
   "execution_count": null,
   "id": "557ee01c-f32c-40c5-af7e-2e3bce37aca5",
   "metadata": {},
   "outputs": [],
   "source": []
  },
  {
   "cell_type": "code",
   "execution_count": null,
   "id": "9d7b3629-6c4c-406b-8157-4dd6154884f2",
   "metadata": {},
   "outputs": [],
   "source": []
  }
 ],
 "metadata": {
  "kernelspec": {
   "display_name": "Python 3 (ipykernel)",
   "language": "python",
   "name": "python3"
  },
  "language_info": {
   "codemirror_mode": {
    "name": "ipython",
    "version": 3
   },
   "file_extension": ".py",
   "mimetype": "text/x-python",
   "name": "python",
   "nbconvert_exporter": "python",
   "pygments_lexer": "ipython3",
   "version": "3.12.4"
  }
 },
 "nbformat": 4,
 "nbformat_minor": 5
}
