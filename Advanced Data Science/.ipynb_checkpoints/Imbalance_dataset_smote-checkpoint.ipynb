{
 "cells": [
  {
   "cell_type": "markdown",
   "id": "b6707d1c-cde6-4878-a79f-7ad98e102a09",
   "metadata": {},
   "source": [
    "#  Handling Imbalanced Datasets: SMOTE (Synthetic Minority Over-sampling Technique)"
   ]
  },
  {
   "cell_type": "markdown",
   "id": "f4a2e7eb-e56f-47b5-a89b-b102dd3909ca",
   "metadata": {},
   "source": [
    "### Why use SMOTE?"
   ]
  },
  {
   "cell_type": "markdown",
   "id": "76c8c8ef-deb4-4aa9-af5c-745e2afbdf97",
   "metadata": {},
   "source": [
    "In imbalanced datasets (e.g., fraud detection, rare disease classification), models may predict the majority class more often. SMOTE creates synthetic examples of the minority class to balance the dataset."
   ]
  },
  {
   "cell_type": "markdown",
   "id": "e7856386-b562-430a-a639-befa4e1c7ed4",
   "metadata": {},
   "source": [
    "- Dataset: Fraud Detection\n",
    "- Random Forest Classifier"
   ]
  },
  {
   "cell_type": "code",
   "execution_count": 24,
   "id": "dfabbbd9-2091-4aeb-a91c-7a651e136035",
   "metadata": {},
   "outputs": [
    {
     "name": "stdout",
     "output_type": "stream",
     "text": [
      "              precision    recall  f1-score   support\n",
      "\n",
      "           0       1.00      0.80      0.89        20\n",
      "           1       0.81      1.00      0.89        17\n",
      "\n",
      "    accuracy                           0.89        37\n",
      "   macro avg       0.90      0.90      0.89        37\n",
      "weighted avg       0.91      0.89      0.89        37\n",
      "\n"
     ]
    }
   ],
   "source": [
    "from imblearn.over_sampling import SMOTE\n",
    "from sklearn.model_selection import train_test_split\n",
    "from sklearn.ensemble import RandomForestClassifier\n",
    "from sklearn.metrics import classification_report\n",
    "\n",
    "# Load Dataset (Assume fraud.csv has a 'Class' column with 0 (non-fraud) and 1 (fraud))\n",
    "import pandas as pd\n",
    "data = pd.read_csv('fraud.csv')\n",
    "X = data.drop(columns=['Class'])\n",
    "y = data['Class']\n",
    "\n",
    "# Apply SMOTE\n",
    "smote = SMOTE(random_state=42)\n",
    "X_resampled, y_resampled = smote.fit_resample(X, y)\n",
    "\n",
    "# Train Model\n",
    "model = RandomForestClassifier()\n",
    "X_train, X_test, y_train, y_test = train_test_split(X_resampled, y_resampled, test_size=0.2, random_state=42)\n",
    "model.fit(X_train, y_train)\n",
    "\n",
    "# Evaluate\n",
    "y_pred = model.predict(X_test)\n",
    "print(classification_report(y_test, y_pred))\n"
   ]
  },
  {
   "cell_type": "code",
   "execution_count": null,
   "id": "72270fd3-6d9c-46b7-8274-bbb5910fa561",
   "metadata": {},
   "outputs": [],
   "source": []
  },
  {
   "cell_type": "code",
   "execution_count": null,
   "id": "cb61c693-e1da-4fa0-8a77-73e6b4bd1246",
   "metadata": {},
   "outputs": [],
   "source": []
  },
  {
   "cell_type": "code",
   "execution_count": null,
   "id": "a1937e72-150e-4e0c-a8d7-708584fe8521",
   "metadata": {},
   "outputs": [],
   "source": []
  },
  {
   "cell_type": "code",
   "execution_count": null,
   "id": "78c3aa0c-7597-4280-b2be-27f529c0e4c2",
   "metadata": {},
   "outputs": [],
   "source": []
  }
 ],
 "metadata": {
  "kernelspec": {
   "display_name": "Python 3 (ipykernel)",
   "language": "python",
   "name": "python3"
  },
  "language_info": {
   "codemirror_mode": {
    "name": "ipython",
    "version": 3
   },
   "file_extension": ".py",
   "mimetype": "text/x-python",
   "name": "python",
   "nbconvert_exporter": "python",
   "pygments_lexer": "ipython3",
   "version": "3.12.4"
  }
 },
 "nbformat": 4,
 "nbformat_minor": 5
}
