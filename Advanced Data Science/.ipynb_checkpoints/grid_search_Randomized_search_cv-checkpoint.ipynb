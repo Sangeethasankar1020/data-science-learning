{
 "cells": [
  {
   "cell_type": "markdown",
   "id": "9a5b47e3-e3d8-46ea-b4ce-6ecce9977e8c",
   "metadata": {},
   "source": [
    "# Grid Search & Randomized Search CV"
   ]
  },
  {
   "cell_type": "markdown",
   "id": "d8cb5727-cc54-4485-b1f7-0d096505a8e0",
   "metadata": {},
   "source": [
    "### Why use these techniques?"
   ]
  },
  {
   "cell_type": "markdown",
   "id": "330912c0-e763-4bca-9324-85bdbeb8b6d9",
   "metadata": {},
   "source": [
    "Hyperparameter tuning improves model performance. Instead of manually testing parameters, GridSearchCV and RandomizedSearchCV find optimal values efficiently."
   ]
  },
  {
   "cell_type": "markdown",
   "id": "815562af-335e-44f5-b41f-cc65355b8919",
   "metadata": {},
   "source": [
    "### How they work?"
   ]
  },
  {
   "cell_type": "markdown",
   "id": "68a4c06a-36a9-49dd-b123-4edf33d78e43",
   "metadata": {},
   "source": [
    "- GridSearchCV: Exhaustive search over all parameter combinations.\n",
    "\n",
    "- RandomizedSearchCV: Randomly selects a subset of parameter combinations for faster tuning."
   ]
  },
  {
   "cell_type": "markdown",
   "id": "70e54264-9e72-46ec-868b-5ee1a1d1fb83",
   "metadata": {},
   "source": [
    "**Example Dataset: Titanic Survival Prediction**"
   ]
  },
  {
   "cell_type": "markdown",
   "id": "4c893297-35b9-41d3-94af-bbcfc23b36c6",
   "metadata": {},
   "source": [
    "Random Forest Classifier"
   ]
  },
  {
   "cell_type": "code",
   "execution_count": null,
   "id": "98548000-6a4a-4d81-a65e-32cd436a7727",
   "metadata": {},
   "outputs": [],
   "source": [
    "from sklearn.model_selection import GridSearchCV, RandomizedSearchCV\n",
    "from sklearn.ensemble import RandomForestClassifier\n",
    "\n",
    "# Load Dataset\n",
    "import pandas as pd\n",
    "data = pd.read_csv('titanic.csv').dropna()\n",
    "X = data[['Pclass', 'Age', 'SibSp', 'Fare']]\n",
    "y = data['Survived']\n",
    "\n",
    "# Hyperparameter Grid\n",
    "param_grid = {\n",
    "    'n_estimators': [50, 100, 200],\n",
    "    'max_depth': [None, 10, 20],\n",
    "    'min_samples_split': [2, 5, 10]\n",
    "}\n",
    "\n",
    "# Grid Search\n",
    "model = RandomForestClassifier()\n",
    "grid_search = GridSearchCV(model, param_grid, cv=5, scoring='accuracy')\n",
    "grid_search.fit(X, y)\n",
    "\n",
    "print(\"Best Parameters:\", grid_search.best_params_)\n"
   ]
  },
  {
   "cell_type": "code",
   "execution_count": null,
   "id": "52354e09-a010-423d-9d18-7d65a64a8e46",
   "metadata": {},
   "outputs": [],
   "source": []
  },
  {
   "cell_type": "code",
   "execution_count": null,
   "id": "8893d443-da6f-4243-a31d-966c6956f504",
   "metadata": {},
   "outputs": [],
   "source": []
  },
  {
   "cell_type": "code",
   "execution_count": null,
   "id": "a1583f59-b414-4e37-b9a9-785665968271",
   "metadata": {},
   "outputs": [],
   "source": []
  },
  {
   "cell_type": "code",
   "execution_count": null,
   "id": "65025516-c03a-44a0-963f-6d18027fb163",
   "metadata": {},
   "outputs": [],
   "source": []
  },
  {
   "cell_type": "code",
   "execution_count": null,
   "id": "0ef232fc-c320-445f-9904-23ae1f52ee63",
   "metadata": {},
   "outputs": [],
   "source": []
  }
 ],
 "metadata": {
  "kernelspec": {
   "display_name": "Python 3 (ipykernel)",
   "language": "python",
   "name": "python3"
  },
  "language_info": {
   "codemirror_mode": {
    "name": "ipython",
    "version": 3
   },
   "file_extension": ".py",
   "mimetype": "text/x-python",
   "name": "python",
   "nbconvert_exporter": "python",
   "pygments_lexer": "ipython3",
   "version": "3.12.4"
  }
 },
 "nbformat": 4,
 "nbformat_minor": 5
}
